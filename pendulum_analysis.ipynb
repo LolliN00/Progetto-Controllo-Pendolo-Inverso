{
 "cells": [
  {
   "cell_type": "code",
   "execution_count": 1,
   "id": "aab083b6-04c1-42da-90ca-b614646ddee7",
   "metadata": {},
   "outputs": [],
   "source": [
    "import import_ipynb\n",
    "import mylib"
   ]
  },
  {
   "cell_type": "code",
   "execution_count": 2,
   "id": "61e94335-36cc-4491-bd66-0d388b3aa8d0",
   "metadata": {},
   "outputs": [],
   "source": [
    "def formal_derivative(f, x):\n",
    "    var('aux')\n",
    "    return f.subs(x == aux).diff(aux).subs(aux == x)"
   ]
  },
  {
   "cell_type": "code",
   "execution_count": 3,
   "id": "aa1e660a-baac-45e7-a16b-19227f582b9e",
   "metadata": {},
   "outputs": [],
   "source": [
    "def Lagrangiana(f, x):\n",
    "    return formal_derivative(f, x.diff(t)).diff(t)-formal_derivative(f, x)"
   ]
  },
  {
   "cell_type": "code",
   "execution_count": 4,
   "id": "6d8986b4-0992-4e4e-88cf-3e7203c73d4e",
   "metadata": {},
   "outputs": [
    {
     "data": {
      "text/html": [
       "<html>\\(\\displaystyle {{}^{c1}\\omega_1}\\)</html>"
      ],
      "text/latex": [
       "$\\displaystyle {{}^{c1}\\omega_1}$"
      ],
      "text/plain": [
       "w1"
      ]
     },
     "metadata": {},
     "output_type": "display_data"
    },
    {
     "data": {
      "text/html": [
       "<html>\\(\\displaystyle {{}^{c2}\\omega_{21}}\\)</html>"
      ],
      "text/latex": [
       "$\\displaystyle {{}^{c2}\\omega_{21}}$"
      ],
      "text/plain": [
       "w21"
      ]
     },
     "metadata": {},
     "output_type": "display_data"
    },
    {
     "data": {
      "text/html": [
       "<html>\\(\\displaystyle {{}^{c1}v_1}\\)</html>"
      ],
      "text/latex": [
       "$\\displaystyle {{}^{c1}v_1}$"
      ],
      "text/plain": [
       "v1"
      ]
     },
     "metadata": {},
     "output_type": "display_data"
    },
    {
     "data": {
      "text/html": [
       "<html>\\(\\displaystyle {{}^{1}v_2}\\)</html>"
      ],
      "text/latex": [
       "$\\displaystyle {{}^{1}v_2}$"
      ],
      "text/plain": [
       "v2_1"
      ]
     },
     "metadata": {},
     "output_type": "display_data"
    },
    {
     "data": {
      "text/html": [
       "<html>\\(\\displaystyle {{}^{2}v_2}\\)</html>"
      ],
      "text/latex": [
       "$\\displaystyle {{}^{2}v_2}$"
      ],
      "text/plain": [
       "v2_2"
      ]
     },
     "metadata": {},
     "output_type": "display_data"
    },
    {
     "data": {
      "text/html": [
       "<html>\\(\\displaystyle {{}^{c1}v_{c1}}\\)</html>"
      ],
      "text/latex": [
       "$\\displaystyle {{}^{c1}v_{c1}}$"
      ],
      "text/plain": [
       "c1_v_c1"
      ]
     },
     "metadata": {},
     "output_type": "display_data"
    },
    {
     "data": {
      "text/html": [
       "<html>\\(\\displaystyle {{}^{c2}\\omega_2}\\)</html>"
      ],
      "text/latex": [
       "$\\displaystyle {{}^{c2}\\omega_2}$"
      ],
      "text/plain": [
       "w2"
      ]
     },
     "metadata": {},
     "output_type": "display_data"
    },
    {
     "data": {
      "text/html": [
       "<html>\\(\\displaystyle {{}^{c2}v_{c2}}\\)</html>"
      ],
      "text/latex": [
       "$\\displaystyle {{}^{c2}v_{c2}}$"
      ],
      "text/plain": [
       "c2_v_c2"
      ]
     },
     "metadata": {},
     "output_type": "display_data"
    },
    {
     "data": {
      "text/html": [
       "<html>\\(\\displaystyle {{}^{c2}\\omega_{21}}\\)</html>"
      ],
      "text/latex": [
       "$\\displaystyle {{}^{c2}\\omega_{21}}$"
      ],
      "text/plain": [
       "w21"
      ]
     },
     "metadata": {},
     "output_type": "display_data"
    }
   ],
   "source": [
    "dim = 7\n",
    "var('t','g')\n",
    "var('m1','m2')\n",
    "var('k_g','k_l','k_m','v_in','R_eq')\n",
    "var(\"beta\",\"J_eq\")\n",
    "var(\"tau_1\",\"tau_2\")\n",
    "var('I_xx1', 'I_yy1', 'I_zz1', 'I_xz1')\n",
    "var('I_xx2', 'I_yy2', 'I_zz2', 'I_xz2')\n",
    "w1 = var('w1', latex_name='{}^{c1}\\\\omega_1')\n",
    "v1 = var('v1', latex_name='{}^{c1}v_1')\n",
    "c1_v_c1 = var('c1_v_c1', latex_name='{}^{c1}v_{c1}')\n",
    "w2 = var('w2', latex_name='{}^{c2}\\\\omega_2')\n",
    "w21 = var('w21', latex_name='{}^{c2}\\\\omega_{21}')\n",
    "v2_1 = var('v2_1', latex_name='{}^{1}v_2')\n",
    "v2_2 = var('v2_2', latex_name='{}^{2}v_2')\n",
    "c2_v_c2 = var('c2_v_c2', latex_name='{}^{c2}v_{c2}')\n",
    "theta_1= function('theta_1')(t)\n",
    "theta_2= function('theta_2')(t)\n",
    "theta_1d= var('theta_1d',latex_name='\\\\dot{\\\\theta_1}')\n",
    "theta_2d= var('theta_2d',latex_name='\\\\dot{\\\\theta_2}')\n",
    "theta_1dd = var('theta_1dd',latex_name='\\\\ddot{\\\\theta_1}')\n",
    "theta_2dd = var('theta_2dd',latex_name='\\\\ddot{\\\\theta_2}')\n",
    "var('L1','l1','L2','l2')\n",
    "var(\"tau_1\")\n",
    "var(\"tau_2\")\n",
    "l_sbarra = 0.16\n",
    "w_1= 38.6/1000\n",
    "h_1 = 6.4/1000\n",
    "r_2 = 15.1/1000\n",
    "h_2 = 6.4/1000\n",
    "l_3= 38.6/1000\n",
    "h_3 = 6.5/1000\n",
    "w_3 = 24.1/1000\n",
    "h_4 = 15.5/1000\n",
    "l_4 = 38.6/1000\n",
    "w_4 = 6.5/1000\n",
    "h_5 = 15.5/1000\n",
    "l_5 = 38.6/1000\n",
    "w_5 = 6.5/1000\n",
    "r_6 = 19.2/1000\n",
    "h_6 = 6.5/1000\n",
    "r_7 = 19.2/1000\n",
    "h_7= 6.5/1000\n",
    "r_p = 6.25/1000\n",
    "l_p = 0.61\n",
    "show(w1)\n",
    "show(w21)\n",
    "show(v1)\n",
    "show(v2_1)\n",
    "show(v2_2)\n",
    "show(c1_v_c1)\n",
    "show(w2)\n",
    "show(c2_v_c2)\n",
    "show(w21)"
   ]
  },
  {
   "cell_type": "code",
   "execution_count": 5,
   "id": "46b602d7-c243-4739-8dc3-d46b1bac0a22",
   "metadata": {},
   "outputs": [
    {
     "data": {
      "text/html": [
       "<html>\\(\\displaystyle 0.0000395264000000000\\)</html>"
      ],
      "text/latex": [
       "$\\displaystyle 0.0000395264000000000$"
      ],
      "text/plain": [
       "0.0000395264000000000"
      ]
     },
     "metadata": {},
     "output_type": "display_data"
    }
   ],
   "source": [
    "v_1 = mylib.v_par(l_sbarra,w_1,h_1)\n",
    "v_2 = mylib.v_semicil(r_2,h_2)\n",
    "v_3 = mylib.v_par(l_3,w_3,h_3)\n",
    "v_4 = mylib.v_par(l_4,w_4,h_4)\n",
    "v_5 = mylib.v_par(l_5,w_5,h_5)\n",
    "v_6 = mylib.v_semicil(r_6,h_6)\n",
    "v_7 = mylib.v_semicil(r_7,h_7)\n",
    "v_p = mylib.v_cil(r_p,l_p)\n",
    "show(v_1)"
   ]
  },
  {
   "cell_type": "code",
   "execution_count": 6,
   "id": "5fbc627b-0db5-4fd9-9078-5b18e591bf32",
   "metadata": {},
   "outputs": [
    {
     "data": {
      "text/html": [
       "<html>\\(\\displaystyle 0.0000631710\\)</html>"
      ],
      "text/latex": [
       "$\\displaystyle 0.0000631710$"
      ],
      "text/plain": [
       "0.0000631710"
      ]
     },
     "metadata": {},
     "output_type": "display_data"
    },
    {
     "data": {
      "text/html": [
       "<html>\\(\\displaystyle 3640.9\\)</html>"
      ],
      "text/latex": [
       "$\\displaystyle 3640.9$"
      ],
      "text/plain": [
       "3640.9"
      ]
     },
     "metadata": {},
     "output_type": "display_data"
    }
   ],
   "source": [
    "v_tot = v_1+v_2+v_3+v_4+v_5+v_6+v_7\n",
    "m_tot = 0.230\n",
    "show(v_tot.n(digits=6))\n",
    "rho = m_tot/v_tot\n",
    "show(rho.n(digits=5))"
   ]
  },
  {
   "cell_type": "code",
   "execution_count": 7,
   "id": "32394ad5-0b8c-4643-baa2-1e94f4295eaa",
   "metadata": {},
   "outputs": [
    {
     "data": {
      "text/html": [
       "<html>\\(\\displaystyle 0.0386000000000000\\)</html>"
      ],
      "text/latex": [
       "$\\displaystyle 0.0386000000000000$"
      ],
      "text/plain": [
       "0.0386000000000000"
      ]
     },
     "metadata": {},
     "output_type": "display_data"
    }
   ],
   "source": [
    "show(w_1)"
   ]
  },
  {
   "cell_type": "code",
   "execution_count": 8,
   "id": "d2b6e7b4-ccd4-4193-9155-4c6be9691453",
   "metadata": {},
   "outputs": [
    {
     "data": {
      "text/html": [
       "<html>\\(\\displaystyle 0.14391\\)</html>"
      ],
      "text/latex": [
       "$\\displaystyle 0.14391$"
      ],
      "text/plain": [
       "0.14391"
      ]
     },
     "metadata": {},
     "output_type": "display_data"
    },
    {
     "data": {
      "text/html": [
       "<html>\\(\\displaystyle \\left(\\begin{array}{rrr}\n",
       "0.000029343 & 0.00000 & 0.00000 \\\\\n",
       "0.00000 & 0.00049145 & 0.00000 \\\\\n",
       "0.00000 & 0.00000 & 0.00051922\n",
       "\\end{array}\\right)\\)</html>"
      ],
      "text/latex": [
       "$\\displaystyle \\left(\\begin{array}{rrr}\n",
       "0.000029343 & 0.00000 & 0.00000 \\\\\n",
       "0.00000 & 0.00049145 & 0.00000 \\\\\n",
       "0.00000 & 0.00000 & 0.00051922\n",
       "\\end{array}\\right)$"
      ],
      "text/plain": [
       "[0.000029343     0.00000     0.00000]\n",
       "[    0.00000  0.00049145     0.00000]\n",
       "[    0.00000     0.00000  0.00051922]"
      ]
     },
     "metadata": {},
     "output_type": "display_data"
    }
   ],
   "source": [
    "#base del braccio\n",
    "m1_ = v_1*rho\n",
    "show(m1_.n(digits=5))\n",
    "pc1 = vector([l_sbarra/2,0,-h_1/2])\n",
    "I_1 = mylib.I_parall(h_1,w_1,l_sbarra,m_tot)\n",
    "show(I_1.n(digits=5))"
   ]
  },
  {
   "cell_type": "code",
   "execution_count": 9,
   "id": "457cb0dd-26d4-4595-83ca-d4c0a65db539",
   "metadata": {},
   "outputs": [
    {
     "data": {
      "text/html": [
       "<html>\\(\\displaystyle 0.0083457\\)</html>"
      ],
      "text/latex": [
       "$\\displaystyle 0.0083457$"
      ],
      "text/plain": [
       "0.0083457"
      ]
     },
     "metadata": {},
     "output_type": "display_data"
    },
    {
     "data": {
      "text/html": [
       "<html>\\(\\displaystyle \\left(\\begin{array}{rrr}\n",
       "5.0421 \\times 10^{-7} & 0.00000 & 0.00000 \\\\\n",
       "0.00000 & 1.6145 \\times 10^{-7} & 0.00000 \\\\\n",
       "0.00000 & 0.00000 & 6.0869 \\times 10^{-7}\n",
       "\\end{array}\\right)\\)</html>"
      ],
      "text/latex": [
       "$\\displaystyle \\left(\\begin{array}{rrr}\n",
       "5.0421 \\times 10^{-7} & 0.00000 & 0.00000 \\\\\n",
       "0.00000 & 1.6145 \\times 10^{-7} & 0.00000 \\\\\n",
       "0.00000 & 0.00000 & 6.0869 \\times 10^{-7}\n",
       "\\end{array}\\right)$"
      ],
      "text/plain": [
       "[5.0421e-7   0.00000   0.00000]\n",
       "[  0.00000 1.6145e-7   0.00000]\n",
       "[  0.00000   0.00000 6.0869e-7]"
      ]
     },
     "metadata": {},
     "output_type": "display_data"
    }
   ],
   "source": [
    "#semicilindro finale\n",
    "m2_ = v_2*rho\n",
    "show(m2_.n(digits=5))\n",
    "R = matrix(3,3,[[-1,0,0],[0,-1,-0],[0,0,1]])\n",
    "pc2 = vector([-4/3*r_2/pi,0,-h_1/2])\n",
    "I_2 = mylib.I_c_respect_A(R,mylib.I_semicil(r_2,h_2,m2_))\n",
    "show(I_2.n(digits=5))"
   ]
  },
  {
   "cell_type": "code",
   "execution_count": 10,
   "id": "ef93640d-6490-4781-82e2-c5def959ac76",
   "metadata": {},
   "outputs": [
    {
     "data": {
      "text/html": [
       "<html>\\(\\displaystyle 0.0241000000000000\\)</html>"
      ],
      "text/latex": [
       "$\\displaystyle 0.0241000000000000$"
      ],
      "text/plain": [
       "0.0241000000000000"
      ]
     },
     "metadata": {},
     "output_type": "display_data"
    }
   ],
   "source": [
    "show(w_3)"
   ]
  },
  {
   "cell_type": "code",
   "execution_count": 11,
   "id": "42a2fe1c-738c-44a3-b2f6-93e7b506821b",
   "metadata": {},
   "outputs": [
    {
     "data": {
      "text/html": [
       "<html>\\(\\displaystyle 0.022016\\)</html>"
      ],
      "text/latex": [
       "$\\displaystyle 0.022016$"
      ],
      "text/plain": [
       "0.022016"
      ]
     },
     "metadata": {},
     "output_type": "display_data"
    },
    {
     "data": {
      "text/html": [
       "<html>\\(\\displaystyle \\left(\\begin{array}{rrr}\n",
       "1.1431 \\times 10^{-6} & 0.00000 & 0.00000 \\\\\n",
       "0.00000 & 2.8110 \\times 10^{-6} & 0.00000 \\\\\n",
       "0.00000 & 0.00000 & 3.7991 \\times 10^{-6}\n",
       "\\end{array}\\right)\\)</html>"
      ],
      "text/latex": [
       "$\\displaystyle \\left(\\begin{array}{rrr}\n",
       "1.1431 \\times 10^{-6} & 0.00000 & 0.00000 \\\\\n",
       "0.00000 & 2.8110 \\times 10^{-6} & 0.00000 \\\\\n",
       "0.00000 & 0.00000 & 3.7991 \\times 10^{-6}\n",
       "\\end{array}\\right)$"
      ],
      "text/plain": [
       "[1.1431e-6   0.00000   0.00000]\n",
       "[  0.00000 2.8110e-6   0.00000]\n",
       "[  0.00000   0.00000 3.7991e-6]"
      ]
     },
     "metadata": {},
     "output_type": "display_data"
    }
   ],
   "source": [
    "#parallelepipedo sopra braccio\n",
    "m3 = v_3*rho\n",
    "show(m3.n(digits=5))\n",
    "pc3 = vector([l_sbarra-w_3/2,0,h_3/2])\n",
    "I_3 = mylib.I_parall(h_3,w_3,l_3,m3)\n",
    "show(I_3.n(digits=5))"
   ]
  },
  {
   "cell_type": "code",
   "execution_count": 12,
   "id": "c911b6bd-73f6-409b-b9b2-8677fe419cd8",
   "metadata": {},
   "outputs": [
    {
     "data": {
      "text/html": [
       "<html>\\(\\displaystyle 0.0155000000000000\\)</html>"
      ],
      "text/latex": [
       "$\\displaystyle 0.0155000000000000$"
      ],
      "text/plain": [
       "0.0155000000000000"
      ]
     },
     "metadata": {},
     "output_type": "display_data"
    },
    {
     "data": {
      "text/html": [
       "<html>\\(\\displaystyle 0.0386000000000000\\)</html>"
      ],
      "text/latex": [
       "$\\displaystyle 0.0386000000000000$"
      ],
      "text/plain": [
       "0.0386000000000000"
      ]
     },
     "metadata": {},
     "output_type": "display_data"
    },
    {
     "data": {
      "text/html": [
       "<html>\\(\\displaystyle 0.00650000000000000\\)</html>"
      ],
      "text/latex": [
       "$\\displaystyle 0.00650000000000000$"
      ],
      "text/plain": [
       "0.00650000000000000"
      ]
     },
     "metadata": {},
     "output_type": "display_data"
    }
   ],
   "source": [
    "show(h_4)\n",
    "show(l_4)\n",
    "show(w_4)"
   ]
  },
  {
   "cell_type": "code",
   "execution_count": 13,
   "id": "5d967b4d-66ee-4a55-9d53-f593f772f15c",
   "metadata": {},
   "outputs": [
    {
     "data": {
      "text/html": [
       "<html>\\(\\displaystyle 0.014159\\)</html>"
      ],
      "text/latex": [
       "$\\displaystyle 0.014159$"
      ],
      "text/plain": [
       "0.014159"
      ]
     },
     "metadata": {},
     "output_type": "display_data"
    },
    {
     "data": {
      "text/html": [
       "<html>\\(\\displaystyle \\left(\\begin{array}{rrr}\n",
       "2.0416 \\times 10^{-6} & 0.00000 & 0.00000 \\\\\n",
       "0.00000 & 3.3333 \\times 10^{-7} & 0.00000 \\\\\n",
       "0.00000 & 0.00000 & 1.8079 \\times 10^{-6}\n",
       "\\end{array}\\right)\\)</html>"
      ],
      "text/latex": [
       "$\\displaystyle \\left(\\begin{array}{rrr}\n",
       "2.0416 \\times 10^{-6} & 0.00000 & 0.00000 \\\\\n",
       "0.00000 & 3.3333 \\times 10^{-7} & 0.00000 \\\\\n",
       "0.00000 & 0.00000 & 1.8079 \\times 10^{-6}\n",
       "\\end{array}\\right)$"
      ],
      "text/plain": [
       "[2.0416e-6   0.00000   0.00000]\n",
       "[  0.00000 3.3333e-7   0.00000]\n",
       "[  0.00000   0.00000 1.8079e-6]"
      ]
     },
     "metadata": {},
     "output_type": "display_data"
    }
   ],
   "source": [
    "#parallelipedi supporto\n",
    "m4 = m5 = v_4*rho\n",
    "show(m4.n(digits=5))\n",
    "pc4 = vector([l_sbarra-w_4/2,0,h_3+h_4/2])\n",
    "pc5 = vector([l_sbarra-w_4-w_3-w_5/2,0,h_3+h_5/2])\n",
    "I_4= I_5 = mylib.I_parall(h_4,l_4,w_4,m4)\n",
    "show(I_4.n(digits = 5))"
   ]
  },
  {
   "cell_type": "code",
   "execution_count": 14,
   "id": "19a54910-7775-4099-b773-e9225d795e2a",
   "metadata": {},
   "outputs": [
    {
     "data": {
      "text/html": [
       "<html>\\(\\displaystyle \\left(\\begin{array}{rrr}\n",
       "0 & 0 & 1 \\\\\n",
       "0 & -1 & 0 \\\\\n",
       "1 & 0 & 0\n",
       "\\end{array}\\right)\\)</html>"
      ],
      "text/latex": [
       "$\\displaystyle \\left(\\begin{array}{rrr}\n",
       "0 & 0 & 1 \\\\\n",
       "0 & -1 & 0 \\\\\n",
       "1 & 0 & 0\n",
       "\\end{array}\\right)$"
      ],
      "text/plain": [
       "[ 0  0  1]\n",
       "[ 0 -1  0]\n",
       "[ 1  0  0]"
      ]
     },
     "metadata": {},
     "output_type": "display_data"
    },
    {
     "data": {
      "text/html": [
       "<html>\\(\\displaystyle \\left(\\begin{array}{rrr}\n",
       "1.6159 \\times 10^{-6} & 0.00000 & 0.00000 \\\\\n",
       "0.00000 & 4.0124 \\times 10^{-7} & 0.00000 \\\\\n",
       "0.00000 & 0.00000 & 1.3112 \\times 10^{-6}\n",
       "\\end{array}\\right)\\)</html>"
      ],
      "text/latex": [
       "$\\displaystyle \\left(\\begin{array}{rrr}\n",
       "1.6159 \\times 10^{-6} & 0.00000 & 0.00000 \\\\\n",
       "0.00000 & 4.0124 \\times 10^{-7} & 0.00000 \\\\\n",
       "0.00000 & 0.00000 & 1.3112 \\times 10^{-6}\n",
       "\\end{array}\\right)$"
      ],
      "text/plain": [
       "[1.6159e-6   0.00000   0.00000]\n",
       "[  0.00000 4.0124e-7   0.00000]\n",
       "[  0.00000   0.00000 1.3112e-6]"
      ]
     },
     "metadata": {},
     "output_type": "display_data"
    }
   ],
   "source": [
    "#semicilindri supporto\n",
    "R = matrix(3,3,[[0,0,1],[0,-1,0],[1,0,0]])\n",
    "show(R)\n",
    "m6 = m7 = v_6*rho\n",
    "pc6 = vector([l_sbarra-h_6/2,0,h_3+h_4+4/3*r_6/pi])\n",
    "pc7 = vector([l_sbarra-l_3+h_7/2,0,h_3+h_4+4/3*r_6/pi])\n",
    "I_6 = I_7 = mylib.I_c_respect_A(R,mylib.I_semicil(r_6,h_6,m6))\n",
    "show(I_6.n(digits=5))"
   ]
  },
  {
   "cell_type": "code",
   "execution_count": 15,
   "id": "3a9a3a14-66b3-4052-a00d-2c8d8acdf724",
   "metadata": {},
   "outputs": [
    {
     "data": {
      "text/html": [
       "<html>\\(\\displaystyle 0.23000\\)</html>"
      ],
      "text/latex": [
       "$\\displaystyle 0.23000$"
      ],
      "text/plain": [
       "0.23000"
      ]
     },
     "metadata": {},
     "output_type": "display_data"
    }
   ],
   "source": [
    "m_vector = vector(SR,[m1_,m2_,m3,m4,m5,m6,m7])\n",
    "m = mylib.calculate_total_mass(m_vector,dim)\n",
    "pc_matrix = mylib.create_p_c_matrix([pc1,pc2,pc3,pc4,pc5,pc6,pc7])"
   ]
  },
  {
   "cell_type": "code",
   "execution_count": 16,
   "id": "174019a2-cedf-4675-9eac-d7a5ef5db637",
   "metadata": {},
   "outputs": [
    {
     "data": {
      "text/html": [
       "<html>\\(\\displaystyle \\left(\\begin{array}{r}\n",
       "9.8168 \\\\\n",
       "0.00000 \\\\\n",
       "0.35399\n",
       "\\end{array}\\right)\\)</html>"
      ],
      "text/latex": [
       "$\\displaystyle \\left(\\begin{array}{r}\n",
       "9.8168 \\\\\n",
       "0.00000 \\\\\n",
       "0.35399\n",
       "\\end{array}\\right)$"
      ],
      "text/plain": [
       "[ 9.8168]\n",
       "[0.00000]\n",
       "[0.35399]"
      ]
     },
     "metadata": {},
     "output_type": "display_data"
    }
   ],
   "source": [
    "I_c_vector = mylib.create_I_c_vector(dim,[I_1,I_2,I_3,I_4,I_5,I_6,I_7])\n",
    "pc = mylib.calculate_total_pc(dim,pc_matrix,m_vector,m)\n",
    "show(pc.n(digits=5)*100)"
   ]
  },
  {
   "cell_type": "code",
   "execution_count": 17,
   "id": "44b7ab76-dfeb-4a6c-a911-12c343a51876",
   "metadata": {},
   "outputs": [],
   "source": [
    "m_p = 0.210"
   ]
  },
  {
   "cell_type": "code",
   "execution_count": 18,
   "id": "efc45633-d937-4ea9-8978-5e0b87fc2d67",
   "metadata": {},
   "outputs": [
    {
     "data": {
      "text/html": [
       "<html>\\(\\displaystyle \\left(\\begin{array}{rrr}\n",
       "0.0065138 & 0.00000 & 0.00000 \\\\\n",
       "0.00000 & 0.0065138 & 0.00000 \\\\\n",
       "0.00000 & 0.00000 & 4.1016 \\times 10^{-6}\n",
       "\\end{array}\\right)\\)</html>"
      ],
      "text/latex": [
       "$\\displaystyle \\left(\\begin{array}{rrr}\n",
       "0.0065138 & 0.00000 & 0.00000 \\\\\n",
       "0.00000 & 0.0065138 & 0.00000 \\\\\n",
       "0.00000 & 0.00000 & 4.1016 \\times 10^{-6}\n",
       "\\end{array}\\right)$"
      ],
      "text/plain": [
       "[0.0065138   0.00000   0.00000]\n",
       "[  0.00000 0.0065138   0.00000]\n",
       "[  0.00000   0.00000 4.1016e-6]"
      ]
     },
     "metadata": {},
     "output_type": "display_data"
    }
   ],
   "source": [
    "I_p = mylib.I_cil(r_p,l_p,m_p)\n",
    "show(I_p.n(digits=5))"
   ]
  },
  {
   "cell_type": "code",
   "execution_count": 19,
   "id": "e52b9f95-ac35-4003-bc1f-e741b96f3cc4",
   "metadata": {},
   "outputs": [
    {
     "data": {
      "text/html": [
       "<html>\\(\\displaystyle \\left(\\begin{array}{rrr}\n",
       "0.000067877 & 0.00000 & -0.000067332 \\\\\n",
       "0.00000 & 0.00083512 & 0.00000 \\\\\n",
       "-0.000067332 & 0.00000 & 0.00083952\n",
       "\\end{array}\\right)\\)</html>"
      ],
      "text/latex": [
       "$\\displaystyle \\left(\\begin{array}{rrr}\n",
       "0.000067877 & 0.00000 & -0.000067332 \\\\\n",
       "0.00000 & 0.00083512 & 0.00000 \\\\\n",
       "-0.000067332 & 0.00000 & 0.00083952\n",
       "\\end{array}\\right)$"
      ],
      "text/plain": [
       "[ 0.000067877      0.00000 -0.000067332]\n",
       "[     0.00000   0.00083512      0.00000]\n",
       "[-0.000067332      0.00000   0.00083952]"
      ]
     },
     "metadata": {},
     "output_type": "display_data"
    }
   ],
   "source": [
    "I_1 = mylib.I_c_respect_c(dim,m_vector,pc_matrix,I_c_vector,pc)\n",
    "show(I_1.n(digits=5))"
   ]
  },
  {
   "cell_type": "code",
   "execution_count": 20,
   "id": "da5c5e5c-5e79-4a4f-9391-442be0102340",
   "metadata": {},
   "outputs": [
    {
     "data": {
      "text/html": [
       "<html>\\(\\displaystyle \\left(\\begin{array}{rrr}\n",
       "0.000067877 & 0.00000 & -0.000067332 \\\\\n",
       "0.00000 & 0.00083512 & 0.00000 \\\\\n",
       "-0.000067332 & 0.00000 & 0.00083952\n",
       "\\end{array}\\right)\\)</html>"
      ],
      "text/latex": [
       "$\\displaystyle \\left(\\begin{array}{rrr}\n",
       "0.000067877 & 0.00000 & -0.000067332 \\\\\n",
       "0.00000 & 0.00083512 & 0.00000 \\\\\n",
       "-0.000067332 & 0.00000 & 0.00083952\n",
       "\\end{array}\\right)$"
      ],
      "text/plain": [
       "[ 0.000067877      0.00000 -0.000067332]\n",
       "[     0.00000   0.00083512      0.00000]\n",
       "[-0.000067332      0.00000   0.00083952]"
      ]
     },
     "metadata": {},
     "output_type": "display_data"
    }
   ],
   "source": [
    "I_1 = mylib.I_c_respect_c(dim,m_vector,pc_matrix,I_c_vector,pc)\n",
    "show(I_1.n(digits=5))"
   ]
  },
  {
   "cell_type": "code",
   "execution_count": 21,
   "id": "418af6d8-21f6-4333-8b5f-a4f0f9862f89",
   "metadata": {},
   "outputs": [
    {
     "data": {
      "text/html": [
       "<html>\\(\\displaystyle \\left(\\begin{array}{rrr}\n",
       "\\cos\\left(\\theta_{1}\\left(t\\right)\\right) & -\\sin\\left(\\theta_{1}\\left(t\\right)\\right) & 0 \\\\\n",
       "\\sin\\left(\\theta_{1}\\left(t\\right)\\right) & \\cos\\left(\\theta_{1}\\left(t\\right)\\right) & 0 \\\\\n",
       "0 & 0 & 1\n",
       "\\end{array}\\right)\\)</html>"
      ],
      "text/latex": [
       "$\\displaystyle \\left(\\begin{array}{rrr}\n",
       "\\cos\\left(\\theta_{1}\\left(t\\right)\\right) & -\\sin\\left(\\theta_{1}\\left(t\\right)\\right) & 0 \\\\\n",
       "\\sin\\left(\\theta_{1}\\left(t\\right)\\right) & \\cos\\left(\\theta_{1}\\left(t\\right)\\right) & 0 \\\\\n",
       "0 & 0 & 1\n",
       "\\end{array}\\right)$"
      ],
      "text/plain": [
       "[ cos(theta_1(t)) -sin(theta_1(t))                0]\n",
       "[ sin(theta_1(t))  cos(theta_1(t))                0]\n",
       "[               0                0                1]"
      ]
     },
     "metadata": {},
     "output_type": "display_data"
    }
   ],
   "source": [
    "R_01 = mylib.R_k(theta_1,0,0,1)\n",
    "show(R_01)"
   ]
  },
  {
   "cell_type": "code",
   "execution_count": 22,
   "id": "c28e897e-0a7b-4288-9e2d-eb1caed0c734",
   "metadata": {},
   "outputs": [
    {
     "data": {
      "text/html": [
       "<html>\\(\\displaystyle \\left(\\begin{array}{rrr}\n",
       "1 & 0 & 0 \\\\\n",
       "0 & \\cos\\left(\\theta_{2}\\left(t\\right)\\right) & \\sin\\left(\\theta_{2}\\left(t\\right)\\right) \\\\\n",
       "0 & -\\sin\\left(\\theta_{2}\\left(t\\right)\\right) & \\cos\\left(\\theta_{2}\\left(t\\right)\\right)\n",
       "\\end{array}\\right)\\)</html>"
      ],
      "text/latex": [
       "$\\displaystyle \\left(\\begin{array}{rrr}\n",
       "1 & 0 & 0 \\\\\n",
       "0 & \\cos\\left(\\theta_{2}\\left(t\\right)\\right) & \\sin\\left(\\theta_{2}\\left(t\\right)\\right) \\\\\n",
       "0 & -\\sin\\left(\\theta_{2}\\left(t\\right)\\right) & \\cos\\left(\\theta_{2}\\left(t\\right)\\right)\n",
       "\\end{array}\\right)$"
      ],
      "text/plain": [
       "[               1                0                0]\n",
       "[               0  cos(theta_2(t))  sin(theta_2(t))]\n",
       "[               0 -sin(theta_2(t))  cos(theta_2(t))]"
      ]
     },
     "metadata": {},
     "output_type": "display_data"
    }
   ],
   "source": [
    "R_12 = (mylib.R_k(-theta_2,1,0,0))\n",
    "show(R_12.simplify_full())"
   ]
  },
  {
   "cell_type": "code",
   "execution_count": 23,
   "id": "abc7697a-e41f-441e-8393-6e0f471f068f",
   "metadata": {},
   "outputs": [],
   "source": [
    "def show_my(a):\n",
    "    show(a.subs(theta_1.diff() == theta_1d)\n",
    "         .subs(theta_2.diff() == theta_2d)\n",
    "         .subs(theta_2.diff().diff() == theta_2dd)\n",
    "         .subs(theta_1.diff().diff() == theta_1dd)\n",
    "        )"
   ]
  },
  {
   "cell_type": "code",
   "execution_count": 24,
   "id": "d80dd18e-e236-413d-a186-a838615d8494",
   "metadata": {},
   "outputs": [
    {
     "data": {
      "text/html": [
       "<html>\\(\\displaystyle \\left(0,\\,0,\\,{\\dot{\\theta_1}}\\right)\\)</html>"
      ],
      "text/latex": [
       "$\\displaystyle \\left(0,\\,0,\\,{\\dot{\\theta_1}}\\right)$"
      ],
      "text/plain": [
       "(0, 0, theta_1d)"
      ]
     },
     "metadata": {},
     "output_type": "display_data"
    }
   ],
   "source": [
    "w1 = vector([0,0,theta_1.diff()])\n",
    "show_my(w1)"
   ]
  },
  {
   "cell_type": "code",
   "execution_count": 25,
   "id": "ec103789-c2b1-443c-84f4-3d9c563d5d2d",
   "metadata": {},
   "outputs": [
    {
     "data": {
      "text/html": [
       "<html>\\(\\displaystyle \\left(0,\\,0,\\,0\\right)\\)</html>"
      ],
      "text/latex": [
       "$\\displaystyle \\left(0,\\,0,\\,0\\right)$"
      ],
      "text/plain": [
       "(0, 0, 0)"
      ]
     },
     "metadata": {},
     "output_type": "display_data"
    },
    {
     "data": {
      "text/html": [
       "<html>\\(\\displaystyle \\left(l_{1},\\,0,\\,0\\right)\\)</html>"
      ],
      "text/latex": [
       "$\\displaystyle \\left(l_{1},\\,0,\\,0\\right)$"
      ],
      "text/plain": [
       "(l1, 0, 0)"
      ]
     },
     "metadata": {},
     "output_type": "display_data"
    }
   ],
   "source": [
    "v1 = vector([0,0,0])\n",
    "show_my(v1)\n",
    "pc1 = vector([l1,0,0])\n",
    "show(pc1)"
   ]
  },
  {
   "cell_type": "code",
   "execution_count": 26,
   "id": "dc331e89-fe1b-40f9-ac79-712bc1171ff4",
   "metadata": {},
   "outputs": [
    {
     "data": {
      "text/html": [
       "<html>\\(\\displaystyle \\text{SR}^{3}\\)</html>"
      ],
      "text/latex": [
       "$\\displaystyle \\text{SR}^{3}$"
      ],
      "text/plain": [
       "Vector space of dimension 3 over Symbolic Ring"
      ]
     },
     "metadata": {},
     "output_type": "display_data"
    },
    {
     "data": {
      "text/html": [
       "<html>\\(\\displaystyle \\text{SR}^{3}\\)</html>"
      ],
      "text/latex": [
       "$\\displaystyle \\text{SR}^{3}$"
      ],
      "text/plain": [
       "Vector space of dimension 3 over Symbolic Ring"
      ]
     },
     "metadata": {},
     "output_type": "display_data"
    }
   ],
   "source": [
    "show(w1.parent())\n",
    "show(pc1.parent())"
   ]
  },
  {
   "cell_type": "code",
   "execution_count": 27,
   "id": "eb47da49-b044-44cb-9fd4-1efff1933ef8",
   "metadata": {},
   "outputs": [
    {
     "data": {
      "text/html": [
       "<html>\\(\\displaystyle \\left(0,\\,l_{1} {\\dot{\\theta_1}},\\,0\\right)\\)</html>"
      ],
      "text/latex": [
       "$\\displaystyle \\left(0,\\,l_{1} {\\dot{\\theta_1}},\\,0\\right)$"
      ],
      "text/plain": [
       "(0, l1*theta_1d, 0)"
      ]
     },
     "metadata": {},
     "output_type": "display_data"
    }
   ],
   "source": [
    "c1_v_c1 = w1.cross_product(pc1)\n",
    "show_my(c1_v_c1)"
   ]
  },
  {
   "cell_type": "code",
   "execution_count": 28,
   "id": "98bfb1c7-28cc-4350-8c81-73a7ddf141b1",
   "metadata": {},
   "outputs": [
    {
     "data": {
      "text/html": [
       "<html>\\(\\displaystyle \\left({\\dot{\\theta_2}},\\,0,\\,0\\right)\\)</html>"
      ],
      "text/latex": [
       "$\\displaystyle \\left({\\dot{\\theta_2}},\\,0,\\,0\\right)$"
      ],
      "text/plain": [
       "(theta_2d, 0, 0)"
      ]
     },
     "metadata": {},
     "output_type": "display_data"
    }
   ],
   "source": [
    "w21 = vector([theta_2.diff(),0,0])\n",
    "show_my(w21)"
   ]
  },
  {
   "cell_type": "code",
   "execution_count": 29,
   "id": "f5440cb0-f644-48ec-a5cd-3b3e9cd1d962",
   "metadata": {},
   "outputs": [
    {
     "data": {
      "text/html": [
       "<html>\\(\\displaystyle \\left({\\dot{\\theta_2}},\\,{\\dot{\\theta_1}} \\sin\\left(\\theta_{2}\\left(t\\right)\\right),\\,{\\dot{\\theta_1}} \\cos\\left(\\theta_{2}\\left(t\\right)\\right)\\right)\\)</html>"
      ],
      "text/latex": [
       "$\\displaystyle \\left({\\dot{\\theta_2}},\\,{\\dot{\\theta_1}} \\sin\\left(\\theta_{2}\\left(t\\right)\\right),\\,{\\dot{\\theta_1}} \\cos\\left(\\theta_{2}\\left(t\\right)\\right)\\right)$"
      ],
      "text/plain": [
       "(theta_2d, theta_1d*sin(theta_2(t)), theta_1d*cos(theta_2(t)))"
      ]
     },
     "metadata": {},
     "output_type": "display_data"
    }
   ],
   "source": [
    "w2 = R_12*w1+w21\n",
    "show_my(w2.simplify_full())"
   ]
  },
  {
   "cell_type": "code",
   "execution_count": 30,
   "id": "4330d244-4ae0-426f-b162-4689606198bd",
   "metadata": {},
   "outputs": [
    {
     "data": {
      "text/html": [
       "<html>\\(\\displaystyle \\left(0,\\,L_{1} {\\dot{\\theta_1}},\\,0\\right)\\)</html>"
      ],
      "text/latex": [
       "$\\displaystyle \\left(0,\\,L_{1} {\\dot{\\theta_1}},\\,0\\right)$"
      ],
      "text/plain": [
       "(0, L1*theta_1d, 0)"
      ]
     },
     "metadata": {},
     "output_type": "display_data"
    }
   ],
   "source": [
    "v2_1 = w1.cross_product(vector([L1,0,0]))\n",
    "show_my(v2_1)"
   ]
  },
  {
   "cell_type": "code",
   "execution_count": 31,
   "id": "8f642a6f-079f-419d-bd7f-3992d9e9ebab",
   "metadata": {},
   "outputs": [
    {
     "data": {
      "text/html": [
       "<html>\\(\\displaystyle \\left(0,\\,L_{1} {\\dot{\\theta_1}} \\cos\\left(\\theta_{2}\\left(t\\right)\\right),\\,-L_{1} {\\dot{\\theta_1}} \\sin\\left(\\theta_{2}\\left(t\\right)\\right)\\right)\\)</html>"
      ],
      "text/latex": [
       "$\\displaystyle \\left(0,\\,L_{1} {\\dot{\\theta_1}} \\cos\\left(\\theta_{2}\\left(t\\right)\\right),\\,-L_{1} {\\dot{\\theta_1}} \\sin\\left(\\theta_{2}\\left(t\\right)\\right)\\right)$"
      ],
      "text/plain": [
       "(0, L1*theta_1d*cos(theta_2(t)), -L1*theta_1d*sin(theta_2(t)))"
      ]
     },
     "metadata": {},
     "output_type": "display_data"
    }
   ],
   "source": [
    "v2_2 = R_12 * v2_1\n",
    "show_my(v2_2.simplify_full())"
   ]
  },
  {
   "cell_type": "code",
   "execution_count": 32,
   "id": "b6be3af0-ba78-47c7-b821-1df1de81d29a",
   "metadata": {},
   "outputs": [],
   "source": [
    "pc2 = vector([0,0,l2])"
   ]
  },
  {
   "cell_type": "code",
   "execution_count": 33,
   "id": "73a4ce5d-d22e-4b2b-ba71-5fd6e18005f9",
   "metadata": {},
   "outputs": [
    {
     "data": {
      "text/html": [
       "<html>\\(\\displaystyle \\left(l_{2} {\\dot{\\theta_1}} \\sin\\left(\\theta_{2}\\left(t\\right)\\right),\\,L_{1} {\\dot{\\theta_1}} \\cos\\left(\\theta_{2}\\left(t\\right)\\right) - l_{2} {\\dot{\\theta_2}},\\,-L_{1} {\\dot{\\theta_1}} \\sin\\left(\\theta_{2}\\left(t\\right)\\right)\\right)\\)</html>"
      ],
      "text/latex": [
       "$\\displaystyle \\left(l_{2} {\\dot{\\theta_1}} \\sin\\left(\\theta_{2}\\left(t\\right)\\right),\\,L_{1} {\\dot{\\theta_1}} \\cos\\left(\\theta_{2}\\left(t\\right)\\right) - l_{2} {\\dot{\\theta_2}},\\,-L_{1} {\\dot{\\theta_1}} \\sin\\left(\\theta_{2}\\left(t\\right)\\right)\\right)$"
      ],
      "text/plain": [
       "(l2*theta_1d*sin(theta_2(t)), L1*theta_1d*cos(theta_2(t)) - l2*theta_2d, -L1*theta_1d*sin(theta_2(t)))"
      ]
     },
     "metadata": {},
     "output_type": "display_data"
    }
   ],
   "source": [
    "c2_v_c2 = v2_2+w2.cross_product(pc2)\n",
    "show_my(c2_v_c2.simplify_full())"
   ]
  },
  {
   "cell_type": "code",
   "execution_count": 34,
   "id": "08fef612-bd6d-4a31-9897-b4b47977493d",
   "metadata": {},
   "outputs": [
    {
     "data": {
      "text/html": [
       "<html>\\(\\displaystyle \\left(\\begin{array}{rrr}\n",
       "I_{\\mathit{xx}_{1}} & 0 & -I_{\\mathit{xz}_{1}} \\\\\n",
       "0 & I_{\\mathit{yy}_{1}} & 0 \\\\\n",
       "-I_{\\mathit{xz}_{1}} & 0 & I_{\\mathit{zz}_{1}}\n",
       "\\end{array}\\right)\\)</html>"
      ],
      "text/latex": [
       "$\\displaystyle \\left(\\begin{array}{rrr}\n",
       "I_{\\mathit{xx}_{1}} & 0 & -I_{\\mathit{xz}_{1}} \\\\\n",
       "0 & I_{\\mathit{yy}_{1}} & 0 \\\\\n",
       "-I_{\\mathit{xz}_{1}} & 0 & I_{\\mathit{zz}_{1}}\n",
       "\\end{array}\\right)$"
      ],
      "text/plain": [
       "[ I_xx1      0 -I_xz1]\n",
       "[     0  I_yy1      0]\n",
       "[-I_xz1      0  I_zz1]"
      ]
     },
     "metadata": {},
     "output_type": "display_data"
    },
    {
     "data": {
      "text/html": [
       "<html>\\(\\displaystyle \\left(\\begin{array}{rrr}\n",
       "I_{\\mathit{xx}_{2}} & 0 & 0 \\\\\n",
       "0 & I_{\\mathit{yy}_{2}} & 0 \\\\\n",
       "0 & 0 & I_{\\mathit{zz}_{2}}\n",
       "\\end{array}\\right)\\)</html>"
      ],
      "text/latex": [
       "$\\displaystyle \\left(\\begin{array}{rrr}\n",
       "I_{\\mathit{xx}_{2}} & 0 & 0 \\\\\n",
       "0 & I_{\\mathit{yy}_{2}} & 0 \\\\\n",
       "0 & 0 & I_{\\mathit{zz}_{2}}\n",
       "\\end{array}\\right)$"
      ],
      "text/plain": [
       "[I_xx2     0     0]\n",
       "[    0 I_yy2     0]\n",
       "[    0     0 I_zz2]"
      ]
     },
     "metadata": {},
     "output_type": "display_data"
    }
   ],
   "source": [
    "c1_I_c1 = matrix([[I_xx1,0,-I_xz1],[0, I_yy1, 0],[-I_xz1, 0, I_zz1]])\n",
    "c2_I_c2=matrix([[I_xx2,0,-0],[0, I_yy2, 0],[0, 0, I_zz2]])\n",
    "show(c1_I_c1)\n",
    "show(c2_I_c2)"
   ]
  },
  {
   "cell_type": "code",
   "execution_count": 35,
   "id": "a32cb771-e864-4a77-a8c1-3808dd311f01",
   "metadata": {},
   "outputs": [
    {
     "data": {
      "text/html": [
       "<html>\\(\\displaystyle \\frac{1}{2} \\, l_{1}^{2} m_{1} {\\dot{\\theta_1}}^{2} + \\frac{1}{2} \\, I_{\\mathit{zz}_{1}} {\\dot{\\theta_1}}^{2}\\)</html>"
      ],
      "text/latex": [
       "$\\displaystyle \\frac{1}{2} \\, l_{1}^{2} m_{1} {\\dot{\\theta_1}}^{2} + \\frac{1}{2} \\, I_{\\mathit{zz}_{1}} {\\dot{\\theta_1}}^{2}$"
      ],
      "text/plain": [
       "1/2*l1^2*m1*theta_1d^2 + 1/2*I_zz1*theta_1d^2"
      ]
     },
     "metadata": {},
     "output_type": "display_data"
    }
   ],
   "source": [
    "Ep1 = 0\n",
    "Ek1 = 1/2*(c1_v_c1*m1*c1_v_c1+w1*c1_I_c1*w1)\n",
    "show_my(Ek1)"
   ]
  },
  {
   "cell_type": "code",
   "execution_count": 36,
   "id": "a27859a4-0da0-4878-b275-02fceed2393a",
   "metadata": {},
   "outputs": [
    {
     "data": {
      "text/html": [
       "<html>\\(\\displaystyle -L_{1} l_{2} m_{2} {\\dot{\\theta_1}} {\\dot{\\theta_2}} \\cos\\left(\\theta_{2}\\left(t\\right)\\right) + \\frac{1}{2} \\, {\\left(l_{2}^{2} m_{2} + I_{\\mathit{yy}_{2}} - I_{\\mathit{zz}_{2}}\\right)} {\\dot{\\theta_1}}^{2} \\sin\\left(\\theta_{2}\\left(t\\right)\\right)^{2} + \\frac{1}{2} \\, {\\left(L_{1}^{2} m_{2} + I_{\\mathit{zz}_{2}}\\right)} {\\dot{\\theta_1}}^{2} + \\frac{1}{2} \\, {\\left(l_{2}^{2} m_{2} + I_{\\mathit{xx}_{2}}\\right)} {\\dot{\\theta_2}}^{2}\\)</html>"
      ],
      "text/latex": [
       "$\\displaystyle -L_{1} l_{2} m_{2} {\\dot{\\theta_1}} {\\dot{\\theta_2}} \\cos\\left(\\theta_{2}\\left(t\\right)\\right) + \\frac{1}{2} \\, {\\left(l_{2}^{2} m_{2} + I_{\\mathit{yy}_{2}} - I_{\\mathit{zz}_{2}}\\right)} {\\dot{\\theta_1}}^{2} \\sin\\left(\\theta_{2}\\left(t\\right)\\right)^{2} + \\frac{1}{2} \\, {\\left(L_{1}^{2} m_{2} + I_{\\mathit{zz}_{2}}\\right)} {\\dot{\\theta_1}}^{2} + \\frac{1}{2} \\, {\\left(l_{2}^{2} m_{2} + I_{\\mathit{xx}_{2}}\\right)} {\\dot{\\theta_2}}^{2}$"
      ],
      "text/plain": [
       "-L1*l2*m2*theta_1d*theta_2d*cos(theta_2(t)) + 1/2*(l2^2*m2 + I_yy2 - I_zz2)*theta_1d^2*sin(theta_2(t))^2 + 1/2*(L1^2*m2 + I_zz2)*theta_1d^2 + 1/2*(l2^2*m2 + I_xx2)*theta_2d^2"
      ]
     },
     "metadata": {},
     "output_type": "display_data"
    }
   ],
   "source": [
    "Ek2 = 1/2*((c2_v_c2*m2*c2_v_c2)+(w2*c2_I_c2*w2))\n",
    "show_my(Ek2.simplify_full())"
   ]
  },
  {
   "cell_type": "code",
   "execution_count": 37,
   "id": "c80f69b2-14ad-43de-87df-44ffdc8186bf",
   "metadata": {},
   "outputs": [
    {
     "data": {
      "text/html": [
       "<html>\\(\\displaystyle \\left(0,\\,0,\\,l_{2}\\right)\\)</html>"
      ],
      "text/latex": [
       "$\\displaystyle \\left(0,\\,0,\\,l_{2}\\right)$"
      ],
      "text/plain": [
       "(0, 0, l2)"
      ]
     },
     "metadata": {},
     "output_type": "display_data"
    }
   ],
   "source": [
    "show(pc2)"
   ]
  },
  {
   "cell_type": "code",
   "execution_count": 38,
   "id": "d438bead-d929-40c3-aaa9-63180fd16e62",
   "metadata": {},
   "outputs": [
    {
     "data": {
      "text/html": [
       "<html>\\(\\displaystyle \\left(l_{2} \\sin\\left(\\theta_{1}\\left(t\\right)\\right) \\sin\\left(\\theta_{2}\\left(t\\right)\\right) + L_{1} \\cos\\left(\\theta_{1}\\left(t\\right)\\right),\\,-l_{2} \\cos\\left(\\theta_{1}\\left(t\\right)\\right) \\sin\\left(\\theta_{2}\\left(t\\right)\\right) + L_{1} \\sin\\left(\\theta_{1}\\left(t\\right)\\right),\\,l_{2} \\cos\\left(\\theta_{2}\\left(t\\right)\\right)\\right)\\)</html>"
      ],
      "text/latex": [
       "$\\displaystyle \\left(l_{2} \\sin\\left(\\theta_{1}\\left(t\\right)\\right) \\sin\\left(\\theta_{2}\\left(t\\right)\\right) + L_{1} \\cos\\left(\\theta_{1}\\left(t\\right)\\right),\\,-l_{2} \\cos\\left(\\theta_{1}\\left(t\\right)\\right) \\sin\\left(\\theta_{2}\\left(t\\right)\\right) + L_{1} \\sin\\left(\\theta_{1}\\left(t\\right)\\right),\\,l_{2} \\cos\\left(\\theta_{2}\\left(t\\right)\\right)\\right)$"
      ],
      "text/plain": [
       "(l2*sin(theta_1(t))*sin(theta_2(t)) + L1*cos(theta_1(t)), -l2*cos(theta_1(t))*sin(theta_2(t)) + L1*sin(theta_1(t)), l2*cos(theta_2(t)))"
      ]
     },
     "metadata": {},
     "output_type": "display_data"
    }
   ],
   "source": [
    "pc2_u = R_01*vector([L1,0,0])+(R_01*R_12.transpose())*pc2\n",
    "show_my(pc2_u.simplify_full())"
   ]
  },
  {
   "cell_type": "code",
   "execution_count": 39,
   "id": "a33d5327-0101-4f59-88cb-739322fd8e3b",
   "metadata": {},
   "outputs": [
    {
     "data": {
      "text/html": [
       "<html>\\(\\displaystyle g l_{2} m_{2} \\cos\\left(\\theta_{2}\\left(t\\right)\\right)\\)</html>"
      ],
      "text/latex": [
       "$\\displaystyle g l_{2} m_{2} \\cos\\left(\\theta_{2}\\left(t\\right)\\right)$"
      ],
      "text/plain": [
       "g*l2*m2*cos(theta_2(t))"
      ]
     },
     "metadata": {},
     "output_type": "display_data"
    }
   ],
   "source": [
    "Ep2 = -m2*vector([0, 0, -g]).dot_product(pc2_u)\n",
    "show(Ep2.simplify_full())"
   ]
  },
  {
   "cell_type": "code",
   "execution_count": 40,
   "id": "5de483bf-0498-4d0d-94b0-1921d9b3a441",
   "metadata": {},
   "outputs": [],
   "source": [
    "Ep = Ep1+Ep2\n",
    "Ek = Ek1+Ek2\n",
    "L = Ek-Ep"
   ]
  },
  {
   "cell_type": "code",
   "execution_count": 41,
   "id": "720f7ba8-6867-4f6f-995d-9d5cb90fffc3",
   "metadata": {},
   "outputs": [
    {
     "data": {
      "text/plain": [
       "tau_0"
      ]
     },
     "execution_count": 41,
     "metadata": {},
     "output_type": "execute_result"
    }
   ],
   "source": [
    "                                                                                                                                                                var(\"tau_0\")"
   ]
  },
  {
   "cell_type": "code",
   "execution_count": 42,
   "id": "5048eb5f-d0d9-4b72-aa7c-96d13babbc26",
   "metadata": {},
   "outputs": [
    {
     "data": {
      "text/html": [
       "<html>\\(\\displaystyle L_{1} l_{2} m_{2} {\\dot{\\theta_2}}^{2} \\sin\\left(\\theta_{2}\\left(t\\right)\\right) - L_{1} l_{2} m_{2} {\\ddot{\\theta_2}} \\cos\\left(\\theta_{2}\\left(t\\right)\\right) + 2 \\, {\\left(l_{2}^{2} m_{2} + I_{\\mathit{yy}_{2}} - I_{\\mathit{zz}_{2}}\\right)} {\\dot{\\theta_1}} {\\dot{\\theta_2}} \\cos\\left(\\theta_{2}\\left(t\\right)\\right) \\sin\\left(\\theta_{2}\\left(t\\right)\\right) + {\\left(l_{2}^{2} m_{2} + I_{\\mathit{yy}_{2}} - I_{\\mathit{zz}_{2}}\\right)} {\\ddot{\\theta_1}} \\sin\\left(\\theta_{2}\\left(t\\right)\\right)^{2} + {\\left(l_{1}^{2} m_{1} + L_{1}^{2} m_{2} + I_{\\mathit{zz}_{1}} + I_{\\mathit{zz}_{2}}\\right)} {\\ddot{\\theta_1}}\\)</html>"
      ],
      "text/latex": [
       "$\\displaystyle L_{1} l_{2} m_{2} {\\dot{\\theta_2}}^{2} \\sin\\left(\\theta_{2}\\left(t\\right)\\right) - L_{1} l_{2} m_{2} {\\ddot{\\theta_2}} \\cos\\left(\\theta_{2}\\left(t\\right)\\right) + 2 \\, {\\left(l_{2}^{2} m_{2} + I_{\\mathit{yy}_{2}} - I_{\\mathit{zz}_{2}}\\right)} {\\dot{\\theta_1}} {\\dot{\\theta_2}} \\cos\\left(\\theta_{2}\\left(t\\right)\\right) \\sin\\left(\\theta_{2}\\left(t\\right)\\right) + {\\left(l_{2}^{2} m_{2} + I_{\\mathit{yy}_{2}} - I_{\\mathit{zz}_{2}}\\right)} {\\ddot{\\theta_1}} \\sin\\left(\\theta_{2}\\left(t\\right)\\right)^{2} + {\\left(l_{1}^{2} m_{1} + L_{1}^{2} m_{2} + I_{\\mathit{zz}_{1}} + I_{\\mathit{zz}_{2}}\\right)} {\\ddot{\\theta_1}}$"
      ],
      "text/plain": [
       "L1*l2*m2*theta_2d^2*sin(theta_2(t)) - L1*l2*m2*theta_2dd*cos(theta_2(t)) + 2*(l2^2*m2 + I_yy2 - I_zz2)*theta_1d*theta_2d*cos(theta_2(t))*sin(theta_2(t)) + (l2^2*m2 + I_yy2 - I_zz2)*theta_1dd*sin(theta_2(t))^2 + (l1^2*m1 + L1^2*m2 + I_zz1 + I_zz2)*theta_1dd"
      ]
     },
     "metadata": {},
     "output_type": "display_data"
    }
   ],
   "source": [
    "tau_1= Lagrangiana(L, theta_1) \n",
    "tau_2= Lagrangiana(L, theta_2)\n",
    "show_my(tau_1.collect_common_factors().simplify_full())\n"
   ]
  },
  {
   "cell_type": "code",
   "execution_count": 43,
   "id": "051a87dd-06d3-4332-bc05-bcd383d6125f",
   "metadata": {},
   "outputs": [
    {
     "data": {
      "text/html": [
       "<html>\\(\\displaystyle -L_{1} l_{2} m_{2} {\\ddot{\\theta_1}} \\cos\\left(\\theta_{2}\\left(t\\right)\\right) + {\\left(l_{2}^{2} m_{2} + I_{\\mathit{xx}_{2}}\\right)} {\\ddot{\\theta_2}} - {\\left({\\left(l_{2}^{2} m_{2} + I_{\\mathit{yy}_{2}} - I_{\\mathit{zz}_{2}}\\right)} {\\dot{\\theta_1}}^{2} \\cos\\left(\\theta_{2}\\left(t\\right)\\right) + g l_{2} m_{2}\\right)} \\sin\\left(\\theta_{2}\\left(t\\right)\\right)\\)</html>"
      ],
      "text/latex": [
       "$\\displaystyle -L_{1} l_{2} m_{2} {\\ddot{\\theta_1}} \\cos\\left(\\theta_{2}\\left(t\\right)\\right) + {\\left(l_{2}^{2} m_{2} + I_{\\mathit{xx}_{2}}\\right)} {\\ddot{\\theta_2}} - {\\left({\\left(l_{2}^{2} m_{2} + I_{\\mathit{yy}_{2}} - I_{\\mathit{zz}_{2}}\\right)} {\\dot{\\theta_1}}^{2} \\cos\\left(\\theta_{2}\\left(t\\right)\\right) + g l_{2} m_{2}\\right)} \\sin\\left(\\theta_{2}\\left(t\\right)\\right)$"
      ],
      "text/plain": [
       "-L1*l2*m2*theta_1dd*cos(theta_2(t)) + (l2^2*m2 + I_xx2)*theta_2dd - ((l2^2*m2 + I_yy2 - I_zz2)*theta_1d^2*cos(theta_2(t)) + g*l2*m2)*sin(theta_2(t))"
      ]
     },
     "metadata": {},
     "output_type": "display_data"
    }
   ],
   "source": [
    "show_my(tau_2.collect_common_factors().simplify_full())"
   ]
  },
  {
   "cell_type": "code",
   "execution_count": 44,
   "id": "164545b7-c322-48e5-91b8-b81413b1cd81",
   "metadata": {},
   "outputs": [],
   "source": [
    "first_L_sub = tau_1.subs(theta_1.diff().diff() == theta_1dd, theta_2.diff().diff() == theta_2dd)\n",
    "second_L_sub = tau_2.subs(theta_1.diff().diff() == theta_1dd, theta_2.diff().diff() == theta_2dd)"
   ]
  },
  {
   "cell_type": "code",
   "execution_count": 45,
   "id": "050b9afd-a4d9-4961-8602-676018d2bc61",
   "metadata": {},
   "outputs": [
    {
     "data": {
      "text/plain": [
       "tau_1"
      ]
     },
     "execution_count": 45,
     "metadata": {},
     "output_type": "execute_result"
    }
   ],
   "source": [
    "var(\"tau_0\")\n",
    "var(\"tau_1\")"
   ]
  },
  {
   "cell_type": "code",
   "execution_count": 71,
   "id": "804cf354-c514-459b-9cc3-7060b8b9d601",
   "metadata": {},
   "outputs": [
    {
     "data": {
      "text/html": [
       "<html>\\(\\displaystyle -\\frac{{\\left(k_{g} k_{l} k_{m} {\\dot{\\theta_1}} - v_{\\mathit{in}}\\right)} k_{g} k_{l} k_{m}}{R_{\\mathit{eq}}}\\)</html>"
      ],
      "text/latex": [
       "$\\displaystyle -\\frac{{\\left(k_{g} k_{l} k_{m} {\\dot{\\theta_1}} - v_{\\mathit{in}}\\right)} k_{g} k_{l} k_{m}}{R_{\\mathit{eq}}}$"
      ],
      "text/plain": [
       "-(k_g*k_l*k_m*theta_1d - v_in)*k_g*k_l*k_m/R_eq"
      ]
     },
     "metadata": {},
     "output_type": "display_data"
    }
   ],
   "source": [
    "#tau_0 = k_g*k_l*k_m*((v_in-k_m*k_g*k_l*theta_1.diff())/R_eq)\n",
    "show_my(tau_0)"
   ]
  },
  {
   "cell_type": "code",
   "execution_count": 73,
   "id": "bfcdd43f-ceec-43f2-848d-a51023da7178",
   "metadata": {},
   "outputs": [
    {
     "data": {
      "text/html": [
       "<html>\\(\\displaystyle -\\frac{{\\left(k_{g} k_{l} k_{m} {\\dot{\\theta_1}} - v_{\\mathit{in}}\\right)} k_{g} k_{l} k_{m}}{R_{\\mathit{eq}}} - \\beta {\\dot{\\theta_1}} - J_{\\mathit{eq}} {\\ddot{\\theta_1}}\\)</html>"
      ],
      "text/latex": [
       "$\\displaystyle -\\frac{{\\left(k_{g} k_{l} k_{m} {\\dot{\\theta_1}} - v_{\\mathit{in}}\\right)} k_{g} k_{l} k_{m}}{R_{\\mathit{eq}}} - \\beta {\\dot{\\theta_1}} - J_{\\mathit{eq}} {\\ddot{\\theta_1}}$"
      ],
      "text/plain": [
       "-(k_g*k_l*k_m*theta_1d - v_in)*k_g*k_l*k_m/R_eq - beta*theta_1d - J_eq*theta_1dd"
      ]
     },
     "metadata": {},
     "output_type": "display_data"
    }
   ],
   "source": [
    "tau_1 = tau_0 - beta*theta_1.diff()-J_eq*theta_1.diff().diff()\n",
    "show_my(tau_1)"
   ]
  },
  {
   "cell_type": "code",
   "execution_count": 48,
   "id": "760ff8b2-d3dc-45bf-9960-2348d015a662",
   "metadata": {},
   "outputs": [],
   "source": [
    "first_eq = first_L_sub == tau_1"
   ]
  },
  {
   "cell_type": "code",
   "execution_count": 49,
   "id": "0985a329-a485-43de-babc-f9008883bba6",
   "metadata": {},
   "outputs": [],
   "source": [
    "first_eq = first_eq.subs(theta_1.diff().diff()==theta_1dd)"
   ]
  },
  {
   "cell_type": "code",
   "execution_count": 50,
   "id": "616e9efa-c04f-4b2f-9892-a2249f924aad",
   "metadata": {},
   "outputs": [
    {
     "data": {
      "text/html": [
       "<html>\\(\\displaystyle \\left[\\left[{\\ddot{\\theta_1}} = -\\frac{2 \\, {\\left(R_{\\mathit{eq}} l_{2}^{4} m_{2}^{2} + {\\left(I_{\\mathit{xx}_{2}} + I_{\\mathit{yy}_{2}} - I_{\\mathit{zz}_{2}}\\right)} R_{\\mathit{eq}} l_{2}^{2} m_{2} + {\\left(I_{\\mathit{xx}_{2}} I_{\\mathit{yy}_{2}} - I_{\\mathit{xx}_{2}} I_{\\mathit{zz}_{2}}\\right)} R_{\\mathit{eq}}\\right)} \\cos\\left(\\theta_{2}\\left(t\\right)\\right) \\sin\\left(\\theta_{2}\\left(t\\right)\\right) \\frac{\\partial}{\\partial t}\\theta_{1}\\left(t\\right) \\frac{\\partial}{\\partial t}\\theta_{2}\\left(t\\right) + {\\left(L_{1} R_{\\mathit{eq}} l_{2}^{3} m_{2}^{2} + I_{\\mathit{xx}_{2}} L_{1} R_{\\mathit{eq}} l_{2} m_{2}\\right)} \\sin\\left(\\theta_{2}\\left(t\\right)\\right) \\frac{\\partial}{\\partial t}\\theta_{2}\\left(t\\right)^{2} - {\\left(k_{g} k_{l} k_{m} l_{2}^{2} m_{2} + I_{\\mathit{xx}_{2}} k_{g} k_{l} k_{m}\\right)} v_{\\mathit{in}} - {\\left(L_{1} R_{\\mathit{eq}} g l_{2}^{2} m_{2}^{2} \\cos\\left(\\theta_{2}\\left(t\\right)\\right) + {\\left(L_{1} R_{\\mathit{eq}} l_{2}^{3} m_{2}^{2} + {\\left(I_{\\mathit{yy}_{2}} - I_{\\mathit{zz}_{2}}\\right)} L_{1} R_{\\mathit{eq}} l_{2} m_{2}\\right)} \\cos\\left(\\theta_{2}\\left(t\\right)\\right)^{2} \\frac{\\partial}{\\partial t}\\theta_{1}\\left(t\\right)^{2}\\right)} \\sin\\left(\\theta_{2}\\left(t\\right)\\right) + {\\left(I_{\\mathit{xx}_{2}} k_{g}^{2} k_{l}^{2} k_{m}^{2} + {\\left(k_{g}^{2} k_{l}^{2} k_{m}^{2} + R_{\\mathit{eq}} \\beta\\right)} l_{2}^{2} m_{2} + I_{\\mathit{xx}_{2}} R_{\\mathit{eq}} \\beta\\right)} \\frac{\\partial}{\\partial t}\\theta_{1}\\left(t\\right)}{I_{\\mathit{xx}_{2}} R_{\\mathit{eq}} l_{1}^{2} m_{1} + {\\left(I_{\\mathit{xx}_{2}} I_{\\mathit{zz}_{2}} R_{\\mathit{eq}} + {\\left(I_{\\mathit{xx}_{2}} L_{1}^{2} R_{\\mathit{eq}} + I_{\\mathit{zz}_{2}} R_{\\mathit{eq}} l_{2}^{2}\\right)} m_{2}\\right)} \\cos\\left(\\theta_{2}\\left(t\\right)\\right)^{2} + {\\left(I_{\\mathit{xx}_{2}} I_{\\mathit{yy}_{2}} R_{\\mathit{eq}} + {\\left(L_{1}^{2} R_{\\mathit{eq}} l_{2}^{2} + R_{\\mathit{eq}} l_{2}^{4}\\right)} m_{2}^{2} + {\\left(I_{\\mathit{xx}_{2}} L_{1}^{2} R_{\\mathit{eq}} + {\\left(I_{\\mathit{xx}_{2}} + I_{\\mathit{yy}_{2}}\\right)} R_{\\mathit{eq}} l_{2}^{2}\\right)} m_{2}\\right)} \\sin\\left(\\theta_{2}\\left(t\\right)\\right)^{2} + {\\left(I_{\\mathit{xx}_{2}} I_{\\mathit{zz}_{1}} + I_{\\mathit{xx}_{2}} J_{\\mathit{eq}}\\right)} R_{\\mathit{eq}} + {\\left(R_{\\mathit{eq}} l_{1}^{2} l_{2}^{2} m_{1} + {\\left(I_{\\mathit{zz}_{1}} + J_{\\mathit{eq}}\\right)} R_{\\mathit{eq}} l_{2}^{2}\\right)} m_{2}}, {\\ddot{\\theta_2}} = -\\frac{L_{1}^{2} R_{\\mathit{eq}} l_{2}^{2} m_{2}^{2} \\cos\\left(\\theta_{2}\\left(t\\right)\\right) \\sin\\left(\\theta_{2}\\left(t\\right)\\right) \\frac{\\partial}{\\partial t}\\theta_{2}\\left(t\\right)^{2} - L_{1} k_{g} k_{l} k_{m} l_{2} m_{2} v_{\\mathit{in}} \\cos\\left(\\theta_{2}\\left(t\\right)\\right) + 2 \\, {\\left(L_{1} R_{\\mathit{eq}} l_{2}^{3} m_{2}^{2} + {\\left(I_{\\mathit{yy}_{2}} - I_{\\mathit{zz}_{2}}\\right)} L_{1} R_{\\mathit{eq}} l_{2} m_{2}\\right)} \\cos\\left(\\theta_{2}\\left(t\\right)\\right)^{2} \\sin\\left(\\theta_{2}\\left(t\\right)\\right) \\frac{\\partial}{\\partial t}\\theta_{1}\\left(t\\right) \\frac{\\partial}{\\partial t}\\theta_{2}\\left(t\\right) + {\\left(L_{1} k_{g}^{2} k_{l}^{2} k_{m}^{2} + L_{1} R_{\\mathit{eq}} \\beta\\right)} l_{2} m_{2} \\cos\\left(\\theta_{2}\\left(t\\right)\\right) \\frac{\\partial}{\\partial t}\\theta_{1}\\left(t\\right) - {\\left(I_{\\mathit{yy}_{2}} R_{\\mathit{eq}} g l_{2} m_{2} + {\\left({\\left(L_{1}^{2} R_{\\mathit{eq}} l_{2}^{2} + R_{\\mathit{eq}} l_{2}^{4}\\right)} m_{2}^{2} + {\\left(I_{\\mathit{yy}_{2}}^{2} - I_{\\mathit{yy}_{2}} I_{\\mathit{zz}_{2}}\\right)} R_{\\mathit{eq}} + {\\left({\\left(I_{\\mathit{yy}_{2}} - I_{\\mathit{zz}_{2}}\\right)} L_{1}^{2} R_{\\mathit{eq}} + {\\left(2 \\, I_{\\mathit{yy}_{2}} - I_{\\mathit{zz}_{2}}\\right)} R_{\\mathit{eq}} l_{2}^{2}\\right)} m_{2}\\right)} \\cos\\left(\\theta_{2}\\left(t\\right)\\right) \\frac{\\partial}{\\partial t}\\theta_{1}\\left(t\\right)^{2} + {\\left(L_{1}^{2} R_{\\mathit{eq}} g l_{2} + R_{\\mathit{eq}} g l_{2}^{3}\\right)} m_{2}^{2}\\right)} \\sin\\left(\\theta_{2}\\left(t\\right)\\right)^{3} - {\\left({\\left(L_{1}^{2} R_{\\mathit{eq}} l_{2}^{2} m_{2}^{2} + {\\left(I_{\\mathit{yy}_{2}} I_{\\mathit{zz}_{2}} - I_{\\mathit{zz}_{2}}^{2}\\right)} R_{\\mathit{eq}} + {\\left({\\left(I_{\\mathit{yy}_{2}} - I_{\\mathit{zz}_{2}}\\right)} L_{1}^{2} R_{\\mathit{eq}} + I_{\\mathit{zz}_{2}} R_{\\mathit{eq}} l_{2}^{2}\\right)} m_{2}\\right)} \\cos\\left(\\theta_{2}\\left(t\\right)\\right)^{3} \\frac{\\partial}{\\partial t}\\theta_{1}\\left(t\\right)^{2} + {\\left({\\left(I_{\\mathit{yy}_{2}} - I_{\\mathit{zz}_{2}}\\right)} R_{\\mathit{eq}} l_{1}^{2} m_{1} + {\\left(I_{\\mathit{yy}_{2}} I_{\\mathit{zz}_{1}} - I_{\\mathit{zz}_{1}} I_{\\mathit{zz}_{2}} + {\\left(I_{\\mathit{yy}_{2}} - I_{\\mathit{zz}_{2}}\\right)} J_{\\mathit{eq}}\\right)} R_{\\mathit{eq}} + {\\left(R_{\\mathit{eq}} l_{1}^{2} l_{2}^{2} m_{1} + {\\left(I_{\\mathit{zz}_{1}} + J_{\\mathit{eq}}\\right)} R_{\\mathit{eq}} l_{2}^{2}\\right)} m_{2}\\right)} \\cos\\left(\\theta_{2}\\left(t\\right)\\right) \\frac{\\partial}{\\partial t}\\theta_{1}\\left(t\\right)^{2} + {\\left(L_{1}^{2} R_{\\mathit{eq}} g l_{2} m_{2}^{2} + I_{\\mathit{zz}_{2}} R_{\\mathit{eq}} g l_{2} m_{2}\\right)} \\cos\\left(\\theta_{2}\\left(t\\right)\\right)^{2} + {\\left(R_{\\mathit{eq}} g l_{1}^{2} l_{2} m_{1} + {\\left(I_{\\mathit{zz}_{1}} g + J_{\\mathit{eq}} g\\right)} R_{\\mathit{eq}} l_{2}\\right)} m_{2}\\right)} \\sin\\left(\\theta_{2}\\left(t\\right)\\right)}{I_{\\mathit{xx}_{2}} R_{\\mathit{eq}} l_{1}^{2} m_{1} + {\\left(I_{\\mathit{xx}_{2}} I_{\\mathit{zz}_{2}} R_{\\mathit{eq}} + {\\left(I_{\\mathit{xx}_{2}} L_{1}^{2} R_{\\mathit{eq}} + I_{\\mathit{zz}_{2}} R_{\\mathit{eq}} l_{2}^{2}\\right)} m_{2}\\right)} \\cos\\left(\\theta_{2}\\left(t\\right)\\right)^{2} + {\\left(I_{\\mathit{xx}_{2}} I_{\\mathit{yy}_{2}} R_{\\mathit{eq}} + {\\left(L_{1}^{2} R_{\\mathit{eq}} l_{2}^{2} + R_{\\mathit{eq}} l_{2}^{4}\\right)} m_{2}^{2} + {\\left(I_{\\mathit{xx}_{2}} L_{1}^{2} R_{\\mathit{eq}} + {\\left(I_{\\mathit{xx}_{2}} + I_{\\mathit{yy}_{2}}\\right)} R_{\\mathit{eq}} l_{2}^{2}\\right)} m_{2}\\right)} \\sin\\left(\\theta_{2}\\left(t\\right)\\right)^{2} + {\\left(I_{\\mathit{xx}_{2}} I_{\\mathit{zz}_{1}} + I_{\\mathit{xx}_{2}} J_{\\mathit{eq}}\\right)} R_{\\mathit{eq}} + {\\left(R_{\\mathit{eq}} l_{1}^{2} l_{2}^{2} m_{1} + {\\left(I_{\\mathit{zz}_{1}} + J_{\\mathit{eq}}\\right)} R_{\\mathit{eq}} l_{2}^{2}\\right)} m_{2}}\\right]\\right]\\)</html>"
      ],
      "text/latex": [
       "$\\displaystyle \\left[\\left[{\\ddot{\\theta_1}} = -\\frac{2 \\, {\\left(R_{\\mathit{eq}} l_{2}^{4} m_{2}^{2} + {\\left(I_{\\mathit{xx}_{2}} + I_{\\mathit{yy}_{2}} - I_{\\mathit{zz}_{2}}\\right)} R_{\\mathit{eq}} l_{2}^{2} m_{2} + {\\left(I_{\\mathit{xx}_{2}} I_{\\mathit{yy}_{2}} - I_{\\mathit{xx}_{2}} I_{\\mathit{zz}_{2}}\\right)} R_{\\mathit{eq}}\\right)} \\cos\\left(\\theta_{2}\\left(t\\right)\\right) \\sin\\left(\\theta_{2}\\left(t\\right)\\right) \\frac{\\partial}{\\partial t}\\theta_{1}\\left(t\\right) \\frac{\\partial}{\\partial t}\\theta_{2}\\left(t\\right) + {\\left(L_{1} R_{\\mathit{eq}} l_{2}^{3} m_{2}^{2} + I_{\\mathit{xx}_{2}} L_{1} R_{\\mathit{eq}} l_{2} m_{2}\\right)} \\sin\\left(\\theta_{2}\\left(t\\right)\\right) \\frac{\\partial}{\\partial t}\\theta_{2}\\left(t\\right)^{2} - {\\left(k_{g} k_{l} k_{m} l_{2}^{2} m_{2} + I_{\\mathit{xx}_{2}} k_{g} k_{l} k_{m}\\right)} v_{\\mathit{in}} - {\\left(L_{1} R_{\\mathit{eq}} g l_{2}^{2} m_{2}^{2} \\cos\\left(\\theta_{2}\\left(t\\right)\\right) + {\\left(L_{1} R_{\\mathit{eq}} l_{2}^{3} m_{2}^{2} + {\\left(I_{\\mathit{yy}_{2}} - I_{\\mathit{zz}_{2}}\\right)} L_{1} R_{\\mathit{eq}} l_{2} m_{2}\\right)} \\cos\\left(\\theta_{2}\\left(t\\right)\\right)^{2} \\frac{\\partial}{\\partial t}\\theta_{1}\\left(t\\right)^{2}\\right)} \\sin\\left(\\theta_{2}\\left(t\\right)\\right) + {\\left(I_{\\mathit{xx}_{2}} k_{g}^{2} k_{l}^{2} k_{m}^{2} + {\\left(k_{g}^{2} k_{l}^{2} k_{m}^{2} + R_{\\mathit{eq}} \\beta\\right)} l_{2}^{2} m_{2} + I_{\\mathit{xx}_{2}} R_{\\mathit{eq}} \\beta\\right)} \\frac{\\partial}{\\partial t}\\theta_{1}\\left(t\\right)}{I_{\\mathit{xx}_{2}} R_{\\mathit{eq}} l_{1}^{2} m_{1} + {\\left(I_{\\mathit{xx}_{2}} I_{\\mathit{zz}_{2}} R_{\\mathit{eq}} + {\\left(I_{\\mathit{xx}_{2}} L_{1}^{2} R_{\\mathit{eq}} + I_{\\mathit{zz}_{2}} R_{\\mathit{eq}} l_{2}^{2}\\right)} m_{2}\\right)} \\cos\\left(\\theta_{2}\\left(t\\right)\\right)^{2} + {\\left(I_{\\mathit{xx}_{2}} I_{\\mathit{yy}_{2}} R_{\\mathit{eq}} + {\\left(L_{1}^{2} R_{\\mathit{eq}} l_{2}^{2} + R_{\\mathit{eq}} l_{2}^{4}\\right)} m_{2}^{2} + {\\left(I_{\\mathit{xx}_{2}} L_{1}^{2} R_{\\mathit{eq}} + {\\left(I_{\\mathit{xx}_{2}} + I_{\\mathit{yy}_{2}}\\right)} R_{\\mathit{eq}} l_{2}^{2}\\right)} m_{2}\\right)} \\sin\\left(\\theta_{2}\\left(t\\right)\\right)^{2} + {\\left(I_{\\mathit{xx}_{2}} I_{\\mathit{zz}_{1}} + I_{\\mathit{xx}_{2}} J_{\\mathit{eq}}\\right)} R_{\\mathit{eq}} + {\\left(R_{\\mathit{eq}} l_{1}^{2} l_{2}^{2} m_{1} + {\\left(I_{\\mathit{zz}_{1}} + J_{\\mathit{eq}}\\right)} R_{\\mathit{eq}} l_{2}^{2}\\right)} m_{2}}, {\\ddot{\\theta_2}} = -\\frac{L_{1}^{2} R_{\\mathit{eq}} l_{2}^{2} m_{2}^{2} \\cos\\left(\\theta_{2}\\left(t\\right)\\right) \\sin\\left(\\theta_{2}\\left(t\\right)\\right) \\frac{\\partial}{\\partial t}\\theta_{2}\\left(t\\right)^{2} - L_{1} k_{g} k_{l} k_{m} l_{2} m_{2} v_{\\mathit{in}} \\cos\\left(\\theta_{2}\\left(t\\right)\\right) + 2 \\, {\\left(L_{1} R_{\\mathit{eq}} l_{2}^{3} m_{2}^{2} + {\\left(I_{\\mathit{yy}_{2}} - I_{\\mathit{zz}_{2}}\\right)} L_{1} R_{\\mathit{eq}} l_{2} m_{2}\\right)} \\cos\\left(\\theta_{2}\\left(t\\right)\\right)^{2} \\sin\\left(\\theta_{2}\\left(t\\right)\\right) \\frac{\\partial}{\\partial t}\\theta_{1}\\left(t\\right) \\frac{\\partial}{\\partial t}\\theta_{2}\\left(t\\right) + {\\left(L_{1} k_{g}^{2} k_{l}^{2} k_{m}^{2} + L_{1} R_{\\mathit{eq}} \\beta\\right)} l_{2} m_{2} \\cos\\left(\\theta_{2}\\left(t\\right)\\right) \\frac{\\partial}{\\partial t}\\theta_{1}\\left(t\\right) - {\\left(I_{\\mathit{yy}_{2}} R_{\\mathit{eq}} g l_{2} m_{2} + {\\left({\\left(L_{1}^{2} R_{\\mathit{eq}} l_{2}^{2} + R_{\\mathit{eq}} l_{2}^{4}\\right)} m_{2}^{2} + {\\left(I_{\\mathit{yy}_{2}}^{2} - I_{\\mathit{yy}_{2}} I_{\\mathit{zz}_{2}}\\right)} R_{\\mathit{eq}} + {\\left({\\left(I_{\\mathit{yy}_{2}} - I_{\\mathit{zz}_{2}}\\right)} L_{1}^{2} R_{\\mathit{eq}} + {\\left(2 \\, I_{\\mathit{yy}_{2}} - I_{\\mathit{zz}_{2}}\\right)} R_{\\mathit{eq}} l_{2}^{2}\\right)} m_{2}\\right)} \\cos\\left(\\theta_{2}\\left(t\\right)\\right) \\frac{\\partial}{\\partial t}\\theta_{1}\\left(t\\right)^{2} + {\\left(L_{1}^{2} R_{\\mathit{eq}} g l_{2} + R_{\\mathit{eq}} g l_{2}^{3}\\right)} m_{2}^{2}\\right)} \\sin\\left(\\theta_{2}\\left(t\\right)\\right)^{3} - {\\left({\\left(L_{1}^{2} R_{\\mathit{eq}} l_{2}^{2} m_{2}^{2} + {\\left(I_{\\mathit{yy}_{2}} I_{\\mathit{zz}_{2}} - I_{\\mathit{zz}_{2}}^{2}\\right)} R_{\\mathit{eq}} + {\\left({\\left(I_{\\mathit{yy}_{2}} - I_{\\mathit{zz}_{2}}\\right)} L_{1}^{2} R_{\\mathit{eq}} + I_{\\mathit{zz}_{2}} R_{\\mathit{eq}} l_{2}^{2}\\right)} m_{2}\\right)} \\cos\\left(\\theta_{2}\\left(t\\right)\\right)^{3} \\frac{\\partial}{\\partial t}\\theta_{1}\\left(t\\right)^{2} + {\\left({\\left(I_{\\mathit{yy}_{2}} - I_{\\mathit{zz}_{2}}\\right)} R_{\\mathit{eq}} l_{1}^{2} m_{1} + {\\left(I_{\\mathit{yy}_{2}} I_{\\mathit{zz}_{1}} - I_{\\mathit{zz}_{1}} I_{\\mathit{zz}_{2}} + {\\left(I_{\\mathit{yy}_{2}} - I_{\\mathit{zz}_{2}}\\right)} J_{\\mathit{eq}}\\right)} R_{\\mathit{eq}} + {\\left(R_{\\mathit{eq}} l_{1}^{2} l_{2}^{2} m_{1} + {\\left(I_{\\mathit{zz}_{1}} + J_{\\mathit{eq}}\\right)} R_{\\mathit{eq}} l_{2}^{2}\\right)} m_{2}\\right)} \\cos\\left(\\theta_{2}\\left(t\\right)\\right) \\frac{\\partial}{\\partial t}\\theta_{1}\\left(t\\right)^{2} + {\\left(L_{1}^{2} R_{\\mathit{eq}} g l_{2} m_{2}^{2} + I_{\\mathit{zz}_{2}} R_{\\mathit{eq}} g l_{2} m_{2}\\right)} \\cos\\left(\\theta_{2}\\left(t\\right)\\right)^{2} + {\\left(R_{\\mathit{eq}} g l_{1}^{2} l_{2} m_{1} + {\\left(I_{\\mathit{zz}_{1}} g + J_{\\mathit{eq}} g\\right)} R_{\\mathit{eq}} l_{2}\\right)} m_{2}\\right)} \\sin\\left(\\theta_{2}\\left(t\\right)\\right)}{I_{\\mathit{xx}_{2}} R_{\\mathit{eq}} l_{1}^{2} m_{1} + {\\left(I_{\\mathit{xx}_{2}} I_{\\mathit{zz}_{2}} R_{\\mathit{eq}} + {\\left(I_{\\mathit{xx}_{2}} L_{1}^{2} R_{\\mathit{eq}} + I_{\\mathit{zz}_{2}} R_{\\mathit{eq}} l_{2}^{2}\\right)} m_{2}\\right)} \\cos\\left(\\theta_{2}\\left(t\\right)\\right)^{2} + {\\left(I_{\\mathit{xx}_{2}} I_{\\mathit{yy}_{2}} R_{\\mathit{eq}} + {\\left(L_{1}^{2} R_{\\mathit{eq}} l_{2}^{2} + R_{\\mathit{eq}} l_{2}^{4}\\right)} m_{2}^{2} + {\\left(I_{\\mathit{xx}_{2}} L_{1}^{2} R_{\\mathit{eq}} + {\\left(I_{\\mathit{xx}_{2}} + I_{\\mathit{yy}_{2}}\\right)} R_{\\mathit{eq}} l_{2}^{2}\\right)} m_{2}\\right)} \\sin\\left(\\theta_{2}\\left(t\\right)\\right)^{2} + {\\left(I_{\\mathit{xx}_{2}} I_{\\mathit{zz}_{1}} + I_{\\mathit{xx}_{2}} J_{\\mathit{eq}}\\right)} R_{\\mathit{eq}} + {\\left(R_{\\mathit{eq}} l_{1}^{2} l_{2}^{2} m_{1} + {\\left(I_{\\mathit{zz}_{1}} + J_{\\mathit{eq}}\\right)} R_{\\mathit{eq}} l_{2}^{2}\\right)} m_{2}}\\right]\\right]$"
      ],
      "text/plain": [
       "[[theta_1dd == -(2*(R_eq*l2^4*m2^2 + (I_xx2 + I_yy2 - I_zz2)*R_eq*l2^2*m2 + (I_xx2*I_yy2 - I_xx2*I_zz2)*R_eq)*cos(theta_2(t))*sin(theta_2(t))*diff(theta_1(t), t)*diff(theta_2(t), t) + (L1*R_eq*l2^3*m2^2 + I_xx2*L1*R_eq*l2*m2)*sin(theta_2(t))*diff(theta_2(t), t)^2 - (k_g*k_l*k_m*l2^2*m2 + I_xx2*k_g*k_l*k_m)*v_in - (L1*R_eq*g*l2^2*m2^2*cos(theta_2(t)) + (L1*R_eq*l2^3*m2^2 + (I_yy2 - I_zz2)*L1*R_eq*l2*m2)*cos(theta_2(t))^2*diff(theta_1(t), t)^2)*sin(theta_2(t)) + (I_xx2*k_g^2*k_l^2*k_m^2 + (k_g^2*k_l^2*k_m^2 + R_eq*beta)*l2^2*m2 + I_xx2*R_eq*beta)*diff(theta_1(t), t))/(I_xx2*R_eq*l1^2*m1 + (I_xx2*I_zz2*R_eq + (I_xx2*L1^2*R_eq + I_zz2*R_eq*l2^2)*m2)*cos(theta_2(t))^2 + (I_xx2*I_yy2*R_eq + (L1^2*R_eq*l2^2 + R_eq*l2^4)*m2^2 + (I_xx2*L1^2*R_eq + (I_xx2 + I_yy2)*R_eq*l2^2)*m2)*sin(theta_2(t))^2 + (I_xx2*I_zz1 + I_xx2*J_eq)*R_eq + (R_eq*l1^2*l2^2*m1 + (I_zz1 + J_eq)*R_eq*l2^2)*m2), theta_2dd == -(L1^2*R_eq*l2^2*m2^2*cos(theta_2(t))*sin(theta_2(t))*diff(theta_2(t), t)^2 - L1*k_g*k_l*k_m*l2*m2*v_in*cos(theta_2(t)) + 2*(L1*R_eq*l2^3*m2^2 + (I_yy2 - I_zz2)*L1*R_eq*l2*m2)*cos(theta_2(t))^2*sin(theta_2(t))*diff(theta_1(t), t)*diff(theta_2(t), t) + (L1*k_g^2*k_l^2*k_m^2 + L1*R_eq*beta)*l2*m2*cos(theta_2(t))*diff(theta_1(t), t) - (I_yy2*R_eq*g*l2*m2 + ((L1^2*R_eq*l2^2 + R_eq*l2^4)*m2^2 + (I_yy2^2 - I_yy2*I_zz2)*R_eq + ((I_yy2 - I_zz2)*L1^2*R_eq + (2*I_yy2 - I_zz2)*R_eq*l2^2)*m2)*cos(theta_2(t))*diff(theta_1(t), t)^2 + (L1^2*R_eq*g*l2 + R_eq*g*l2^3)*m2^2)*sin(theta_2(t))^3 - ((L1^2*R_eq*l2^2*m2^2 + (I_yy2*I_zz2 - I_zz2^2)*R_eq + ((I_yy2 - I_zz2)*L1^2*R_eq + I_zz2*R_eq*l2^2)*m2)*cos(theta_2(t))^3*diff(theta_1(t), t)^2 + ((I_yy2 - I_zz2)*R_eq*l1^2*m1 + (I_yy2*I_zz1 - I_zz1*I_zz2 + (I_yy2 - I_zz2)*J_eq)*R_eq + (R_eq*l1^2*l2^2*m1 + (I_zz1 + J_eq)*R_eq*l2^2)*m2)*cos(theta_2(t))*diff(theta_1(t), t)^2 + (L1^2*R_eq*g*l2*m2^2 + I_zz2*R_eq*g*l2*m2)*cos(theta_2(t))^2 + (R_eq*g*l1^2*l2*m1 + (I_zz1*g + J_eq*g)*R_eq*l2)*m2)*sin(theta_2(t)))/(I_xx2*R_eq*l1^2*m1 + (I_xx2*I_zz2*R_eq + (I_xx2*L1^2*R_eq + I_zz2*R_eq*l2^2)*m2)*cos(theta_2(t))^2 + (I_xx2*I_yy2*R_eq + (L1^2*R_eq*l2^2 + R_eq*l2^4)*m2^2 + (I_xx2*L1^2*R_eq + (I_xx2 + I_yy2)*R_eq*l2^2)*m2)*sin(theta_2(t))^2 + (I_xx2*I_zz1 + I_xx2*J_eq)*R_eq + (R_eq*l1^2*l2^2*m1 + (I_zz1 + J_eq)*R_eq*l2^2)*m2)]]"
      ]
     },
     "metadata": {},
     "output_type": "display_data"
    }
   ],
   "source": [
    "sol = solve([first_eq,second_L_sub == 0], [theta_1dd, theta_2dd])\n",
    "show(sol)"
   ]
  },
  {
   "cell_type": "code",
   "execution_count": 51,
   "id": "e86b1c46-67b0-499e-921a-31a7f1e89a75",
   "metadata": {},
   "outputs": [
    {
     "data": {
      "text/html": [
       "<html>\\(\\displaystyle 0\\)</html>"
      ],
      "text/latex": [
       "$\\displaystyle 0$"
      ],
      "text/plain": [
       "0"
      ]
     },
     "metadata": {},
     "output_type": "display_data"
    },
    {
     "data": {
      "text/html": [
       "<html>\\(\\displaystyle -\\frac{0.00554968961431358 \\, {\\dot{\\theta_1}} {\\dot{\\theta_2}} \\cos\\left(\\theta_{2}\\left(t\\right)\\right) \\sin\\left(\\theta_{2}\\left(t\\right)\\right) + 0.000955349690221500 \\, {\\dot{\\theta_2}}^{2} \\sin\\left(\\theta_{2}\\left(t\\right)\\right) - {\\left(0.000955199263918452 \\, {\\dot{\\theta_1}}^{2} \\cos\\left(\\theta_{2}\\left(t\\right)\\right)^{2} + 0.0230440399374150 \\, \\cos\\left(\\theta_{2}\\left(t\\right)\\right)\\right)} \\sin\\left(\\theta_{2}\\left(t\\right)\\right) + 0.0364163748389367 \\, {\\dot{\\theta_1}} - 0.0306336828000000 \\, v_{\\mathit{in}}}{0.000110093162256433 \\, \\cos\\left(\\theta_{2}\\left(t\\right)\\right)^{2} + 0.00321380296342322 \\, \\sin\\left(\\theta_{2}\\left(t\\right)\\right)^{2} + 0.000534225106361885}\\)</html>"
      ],
      "text/latex": [
       "$\\displaystyle -\\frac{0.00554968961431358 \\, {\\dot{\\theta_1}} {\\dot{\\theta_2}} \\cos\\left(\\theta_{2}\\left(t\\right)\\right) \\sin\\left(\\theta_{2}\\left(t\\right)\\right) + 0.000955349690221500 \\, {\\dot{\\theta_2}}^{2} \\sin\\left(\\theta_{2}\\left(t\\right)\\right) - {\\left(0.000955199263918452 \\, {\\dot{\\theta_1}}^{2} \\cos\\left(\\theta_{2}\\left(t\\right)\\right)^{2} + 0.0230440399374150 \\, \\cos\\left(\\theta_{2}\\left(t\\right)\\right)\\right)} \\sin\\left(\\theta_{2}\\left(t\\right)\\right) + 0.0364163748389367 \\, {\\dot{\\theta_1}} - 0.0306336828000000 \\, v_{\\mathit{in}}}{0.000110093162256433 \\, \\cos\\left(\\theta_{2}\\left(t\\right)\\right)^{2} + 0.00321380296342322 \\, \\sin\\left(\\theta_{2}\\left(t\\right)\\right)^{2} + 0.000534225106361885}$"
      ],
      "text/plain": [
       "-(0.00554968961431358*theta_1d*theta_2d*cos(theta_2(t))*sin(theta_2(t)) + 0.000955349690221500*theta_2d^2*sin(theta_2(t)) - (0.000955199263918452*theta_1d^2*cos(theta_2(t))^2 + 0.0230440399374150*cos(theta_2(t)))*sin(theta_2(t)) + 0.0364163748389367*theta_1d - 0.0306336828000000*v_in)/(0.000110093162256433*cos(theta_2(t))^2 + 0.00321380296342322*sin(theta_2(t))^2 + 0.000534225106361885)"
      ]
     },
     "metadata": {},
     "output_type": "display_data"
    }
   ],
   "source": [
    "first_eq = sol[0][0].rhs()\n",
    "show_my(first_eq.coefficient(I_zz1))\n",
    "show_my(first_eq.subs({l2:l_p/2,L1:0.14,g:9.81,m1:0.230,m2:0.210,I_xx2:0.0065138,I_yy2:0.0065138,I_zz2:4.1016e-6,I_zz1:0.00083952,l1:0.098258,R_eq:4.09,k_g:14,k_l:5,k_m:0.0168,beta:0.0036715,J_eq:0.0019542}))"
   ]
  },
  {
   "cell_type": "code",
   "execution_count": 52,
   "id": "42cc28b3-00b7-4095-aa97-09299c67b5cf",
   "metadata": {},
   "outputs": [
    {
     "data": {
      "text/html": [
       "<html>\\(\\displaystyle -\\frac{0.00191039852783690 \\, {\\dot{\\theta_1}} {\\dot{\\theta_2}} \\cos\\left(\\theta_{2}\\left(t\\right)\\right)^{2} \\sin\\left(\\theta_{2}\\left(t\\right)\\right) + 0.000328864994010000 \\, {\\dot{\\theta_2}}^{2} \\cos\\left(\\theta_{2}\\left(t\\right)\\right) \\sin\\left(\\theta_{2}\\left(t\\right)\\right) - {\\left(0.00321329692829969 \\, {\\dot{\\theta_1}}^{2} \\cos\\left(\\theta_{2}\\left(t\\right)\\right) + 0.0775203096815122\\right)} \\sin\\left(\\theta_{2}\\left(t\\right)\\right)^{3} + 0.0125357981646450 \\, {\\dot{\\theta_1}} \\cos\\left(\\theta_{2}\\left(t\\right)\\right) - 0.0105451920000000 \\, v_{\\mathit{in}} \\cos\\left(\\theta_{2}\\left(t\\right)\\right) - {\\left(0.000438889039320758 \\, {\\dot{\\theta_1}}^{2} \\cos\\left(\\theta_{2}\\left(t\\right)\\right)^{3} + 0.000534140988987307 \\, {\\dot{\\theta_1}}^{2} \\cos\\left(\\theta_{2}\\left(t\\right)\\right) + 0.0105881326883693 \\, \\cos\\left(\\theta_{2}\\left(t\\right)\\right)^{2} + 0.0128860717835359\\right)} \\sin\\left(\\theta_{2}\\left(t\\right)\\right)}{0.000110093162256433 \\, \\cos\\left(\\theta_{2}\\left(t\\right)\\right)^{2} + 0.00321380296342322 \\, \\sin\\left(\\theta_{2}\\left(t\\right)\\right)^{2} + 0.000534225106361885}\\)</html>"
      ],
      "text/latex": [
       "$\\displaystyle -\\frac{0.00191039852783690 \\, {\\dot{\\theta_1}} {\\dot{\\theta_2}} \\cos\\left(\\theta_{2}\\left(t\\right)\\right)^{2} \\sin\\left(\\theta_{2}\\left(t\\right)\\right) + 0.000328864994010000 \\, {\\dot{\\theta_2}}^{2} \\cos\\left(\\theta_{2}\\left(t\\right)\\right) \\sin\\left(\\theta_{2}\\left(t\\right)\\right) - {\\left(0.00321329692829969 \\, {\\dot{\\theta_1}}^{2} \\cos\\left(\\theta_{2}\\left(t\\right)\\right) + 0.0775203096815122\\right)} \\sin\\left(\\theta_{2}\\left(t\\right)\\right)^{3} + 0.0125357981646450 \\, {\\dot{\\theta_1}} \\cos\\left(\\theta_{2}\\left(t\\right)\\right) - 0.0105451920000000 \\, v_{\\mathit{in}} \\cos\\left(\\theta_{2}\\left(t\\right)\\right) - {\\left(0.000438889039320758 \\, {\\dot{\\theta_1}}^{2} \\cos\\left(\\theta_{2}\\left(t\\right)\\right)^{3} + 0.000534140988987307 \\, {\\dot{\\theta_1}}^{2} \\cos\\left(\\theta_{2}\\left(t\\right)\\right) + 0.0105881326883693 \\, \\cos\\left(\\theta_{2}\\left(t\\right)\\right)^{2} + 0.0128860717835359\\right)} \\sin\\left(\\theta_{2}\\left(t\\right)\\right)}{0.000110093162256433 \\, \\cos\\left(\\theta_{2}\\left(t\\right)\\right)^{2} + 0.00321380296342322 \\, \\sin\\left(\\theta_{2}\\left(t\\right)\\right)^{2} + 0.000534225106361885}$"
      ],
      "text/plain": [
       "-(0.00191039852783690*theta_1d*theta_2d*cos(theta_2(t))^2*sin(theta_2(t)) + 0.000328864994010000*theta_2d^2*cos(theta_2(t))*sin(theta_2(t)) - (0.00321329692829969*theta_1d^2*cos(theta_2(t)) + 0.0775203096815122)*sin(theta_2(t))^3 + 0.0125357981646450*theta_1d*cos(theta_2(t)) - 0.0105451920000000*v_in*cos(theta_2(t)) - (0.000438889039320758*theta_1d^2*cos(theta_2(t))^3 + 0.000534140988987307*theta_1d^2*cos(theta_2(t)) + 0.0105881326883693*cos(theta_2(t))^2 + 0.0128860717835359)*sin(theta_2(t)))/(0.000110093162256433*cos(theta_2(t))^2 + 0.00321380296342322*sin(theta_2(t))^2 + 0.000534225106361885)"
      ]
     },
     "metadata": {},
     "output_type": "display_data"
    }
   ],
   "source": [
    "second_eq = sol[0][1].rhs()\n",
    "show_my(second_eq.subs({l2:l_p/2,L1:0.14,g:9.81,m1:0.230,m2:0.210,I_xx2:0.0065138,I_yy2:0.0065138,I_zz2:4.1016e-6,I_zz1:0.00083952,l1:0.098258,R_eq:4.09,k_g:14,k_l:5,k_m:0.0168,beta:0.0036715,J_eq:0.0019542}))"
   ]
  },
  {
   "cell_type": "code",
   "execution_count": 53,
   "id": "62531df8-a030-4d0c-bdb3-c700e4be797b",
   "metadata": {},
   "outputs": [
    {
     "data": {
      "text/html": [
       "<html>\\(\\displaystyle 0\\)</html>"
      ],
      "text/latex": [
       "$\\displaystyle 0$"
      ],
      "text/plain": [
       "0"
      ]
     },
     "metadata": {},
     "output_type": "display_data"
    }
   ],
   "source": [
    "A31 = formal_derivative(first_eq,theta_1).subs({theta_1:0,theta_2:0,theta_1.diff():0,theta_2.diff():0})\n",
    "show(A31.simplify_full().collect_common_factors())"
   ]
  },
  {
   "cell_type": "code",
   "execution_count": 54,
   "id": "f9984182-dc68-4e4d-9b9d-cae203a5c628",
   "metadata": {},
   "outputs": [
    {
     "data": {
      "text/html": [
       "<html>\\(\\displaystyle \\frac{L_{1} g l_{2}^{2} m_{2}^{2}}{I_{\\mathit{xx}_{2}} l_{1}^{2} m_{1} + I_{\\mathit{xx}_{2}} I_{\\mathit{zz}_{1}} + I_{\\mathit{xx}_{2}} I_{\\mathit{zz}_{2}} + I_{\\mathit{xx}_{2}} J_{\\mathit{eq}} + {\\left(l_{1}^{2} l_{2}^{2} m_{1} + I_{\\mathit{xx}_{2}} L_{1}^{2} + {\\left(I_{\\mathit{zz}_{1}} + I_{\\mathit{zz}_{2}} + J_{\\mathit{eq}}\\right)} l_{2}^{2}\\right)} m_{2}}\\)</html>"
      ],
      "text/latex": [
       "$\\displaystyle \\frac{L_{1} g l_{2}^{2} m_{2}^{2}}{I_{\\mathit{xx}_{2}} l_{1}^{2} m_{1} + I_{\\mathit{xx}_{2}} I_{\\mathit{zz}_{1}} + I_{\\mathit{xx}_{2}} I_{\\mathit{zz}_{2}} + I_{\\mathit{xx}_{2}} J_{\\mathit{eq}} + {\\left(l_{1}^{2} l_{2}^{2} m_{1} + I_{\\mathit{xx}_{2}} L_{1}^{2} + {\\left(I_{\\mathit{zz}_{1}} + I_{\\mathit{zz}_{2}} + J_{\\mathit{eq}}\\right)} l_{2}^{2}\\right)} m_{2}}$"
      ],
      "text/plain": [
       "L1*g*l2^2*m2^2/(I_xx2*l1^2*m1 + I_xx2*I_zz1 + I_xx2*I_zz2 + I_xx2*J_eq + (l1^2*l2^2*m1 + I_xx2*L1^2 + (I_zz1 + I_zz2 + J_eq)*l2^2)*m2)"
      ]
     },
     "metadata": {},
     "output_type": "display_data"
    }
   ],
   "source": [
    "A32 = formal_derivative(first_eq,theta_2).subs({theta_1:0,theta_2:0,theta_1.diff():0,theta_2.diff():0})\n",
    "show(A32.simplify_full().collect_common_factors())\n"
   ]
  },
  {
   "cell_type": "code",
   "execution_count": 55,
   "id": "f02b677a-bd29-4a77-9e41-d5a0475c0570",
   "metadata": {},
   "outputs": [
    {
     "data": {
      "text/html": [
       "<html>\\(\\displaystyle -\\frac{I_{\\mathit{xx}_{2}} k_{g}^{2} k_{l}^{2} k_{m}^{2} + {\\left(k_{g}^{2} k_{l}^{2} k_{m}^{2} + R_{\\mathit{eq}} \\beta\\right)} l_{2}^{2} m_{2} + I_{\\mathit{xx}_{2}} R_{\\mathit{eq}} \\beta}{I_{\\mathit{xx}_{2}} R_{\\mathit{eq}} l_{1}^{2} m_{1} + I_{\\mathit{xx}_{2}} I_{\\mathit{zz}_{2}} R_{\\mathit{eq}} + {\\left(I_{\\mathit{xx}_{2}} I_{\\mathit{zz}_{1}} + I_{\\mathit{xx}_{2}} J_{\\mathit{eq}}\\right)} R_{\\mathit{eq}} + {\\left(R_{\\mathit{eq}} l_{1}^{2} l_{2}^{2} m_{1} + {\\left(I_{\\mathit{zz}_{1}} + J_{\\mathit{eq}}\\right)} R_{\\mathit{eq}} l_{2}^{2}\\right)} m_{2} + {\\left(I_{\\mathit{xx}_{2}} L_{1}^{2} R_{\\mathit{eq}} + I_{\\mathit{zz}_{2}} R_{\\mathit{eq}} l_{2}^{2}\\right)} m_{2}}\\)</html>"
      ],
      "text/latex": [
       "$\\displaystyle -\\frac{I_{\\mathit{xx}_{2}} k_{g}^{2} k_{l}^{2} k_{m}^{2} + {\\left(k_{g}^{2} k_{l}^{2} k_{m}^{2} + R_{\\mathit{eq}} \\beta\\right)} l_{2}^{2} m_{2} + I_{\\mathit{xx}_{2}} R_{\\mathit{eq}} \\beta}{I_{\\mathit{xx}_{2}} R_{\\mathit{eq}} l_{1}^{2} m_{1} + I_{\\mathit{xx}_{2}} I_{\\mathit{zz}_{2}} R_{\\mathit{eq}} + {\\left(I_{\\mathit{xx}_{2}} I_{\\mathit{zz}_{1}} + I_{\\mathit{xx}_{2}} J_{\\mathit{eq}}\\right)} R_{\\mathit{eq}} + {\\left(R_{\\mathit{eq}} l_{1}^{2} l_{2}^{2} m_{1} + {\\left(I_{\\mathit{zz}_{1}} + J_{\\mathit{eq}}\\right)} R_{\\mathit{eq}} l_{2}^{2}\\right)} m_{2} + {\\left(I_{\\mathit{xx}_{2}} L_{1}^{2} R_{\\mathit{eq}} + I_{\\mathit{zz}_{2}} R_{\\mathit{eq}} l_{2}^{2}\\right)} m_{2}}$"
      ],
      "text/plain": [
       "-(I_xx2*k_g^2*k_l^2*k_m^2 + (k_g^2*k_l^2*k_m^2 + R_eq*beta)*l2^2*m2 + I_xx2*R_eq*beta)/(I_xx2*R_eq*l1^2*m1 + I_xx2*I_zz2*R_eq + (I_xx2*I_zz1 + I_xx2*J_eq)*R_eq + (R_eq*l1^2*l2^2*m1 + (I_zz1 + J_eq)*R_eq*l2^2)*m2 + (I_xx2*L1^2*R_eq + I_zz2*R_eq*l2^2)*m2)"
      ]
     },
     "metadata": {},
     "output_type": "display_data"
    }
   ],
   "source": [
    "A33 = formal_derivative(first_eq,theta_1.diff()).subs({theta_1:0,theta_2:0,theta_1.diff():0,theta_2.diff():0})\n",
    "show(A33)"
   ]
  },
  {
   "cell_type": "code",
   "execution_count": 56,
   "id": "523db3db-1d4c-4ce3-8895-bf55e236d046",
   "metadata": {},
   "outputs": [
    {
     "data": {
      "text/html": [
       "<html>\\(\\displaystyle 0\\)</html>"
      ],
      "text/latex": [
       "$\\displaystyle 0$"
      ],
      "text/plain": [
       "0"
      ]
     },
     "metadata": {},
     "output_type": "display_data"
    }
   ],
   "source": [
    "A34 = formal_derivative(first_eq,theta_2.diff()).subs({theta_1:0,theta_2:0,theta_1.diff():0,theta_2.diff():0})\n",
    "show(A34)"
   ]
  },
  {
   "cell_type": "code",
   "execution_count": 57,
   "id": "88b582dc-28c2-479d-950b-51722dac2924",
   "metadata": {},
   "outputs": [
    {
     "data": {
      "text/html": [
       "<html>\\(\\displaystyle 0\\)</html>"
      ],
      "text/latex": [
       "$\\displaystyle 0$"
      ],
      "text/plain": [
       "0"
      ]
     },
     "metadata": {},
     "output_type": "display_data"
    }
   ],
   "source": [
    "A41 = formal_derivative(second_eq,theta_1).subs({theta_1:0,theta_2:0,theta_1.diff():0,theta_2.diff():0})\n",
    "show(A41)\n"
   ]
  },
  {
   "cell_type": "code",
   "execution_count": 58,
   "id": "919eb235-0146-4c12-9c3d-2cd37b4f5299",
   "metadata": {},
   "outputs": [
    {
     "data": {
      "text/html": [
       "<html>\\(\\displaystyle \\frac{{\\left(l_{1}^{2} m_{1} + L_{1}^{2} m_{2} + I_{\\mathit{zz}_{1}} + I_{\\mathit{zz}_{2}} + J_{\\mathit{eq}}\\right)} g l_{2} m_{2}}{I_{\\mathit{xx}_{2}} l_{1}^{2} m_{1} + I_{\\mathit{xx}_{2}} I_{\\mathit{zz}_{1}} + I_{\\mathit{xx}_{2}} I_{\\mathit{zz}_{2}} + I_{\\mathit{xx}_{2}} J_{\\mathit{eq}} + {\\left(l_{1}^{2} l_{2}^{2} m_{1} + I_{\\mathit{xx}_{2}} L_{1}^{2} + {\\left(I_{\\mathit{zz}_{1}} + I_{\\mathit{zz}_{2}} + J_{\\mathit{eq}}\\right)} l_{2}^{2}\\right)} m_{2}}\\)</html>"
      ],
      "text/latex": [
       "$\\displaystyle \\frac{{\\left(l_{1}^{2} m_{1} + L_{1}^{2} m_{2} + I_{\\mathit{zz}_{1}} + I_{\\mathit{zz}_{2}} + J_{\\mathit{eq}}\\right)} g l_{2} m_{2}}{I_{\\mathit{xx}_{2}} l_{1}^{2} m_{1} + I_{\\mathit{xx}_{2}} I_{\\mathit{zz}_{1}} + I_{\\mathit{xx}_{2}} I_{\\mathit{zz}_{2}} + I_{\\mathit{xx}_{2}} J_{\\mathit{eq}} + {\\left(l_{1}^{2} l_{2}^{2} m_{1} + I_{\\mathit{xx}_{2}} L_{1}^{2} + {\\left(I_{\\mathit{zz}_{1}} + I_{\\mathit{zz}_{2}} + J_{\\mathit{eq}}\\right)} l_{2}^{2}\\right)} m_{2}}$"
      ],
      "text/plain": [
       "(l1^2*m1 + L1^2*m2 + I_zz1 + I_zz2 + J_eq)*g*l2*m2/(I_xx2*l1^2*m1 + I_xx2*I_zz1 + I_xx2*I_zz2 + I_xx2*J_eq + (l1^2*l2^2*m1 + I_xx2*L1^2 + (I_zz1 + I_zz2 + J_eq)*l2^2)*m2)"
      ]
     },
     "metadata": {},
     "output_type": "display_data"
    }
   ],
   "source": [
    "A42 = formal_derivative(second_eq,theta_2).subs({theta_1:0,theta_2:0,theta_1.diff():0,theta_2.diff():0})\n",
    "show(A42.simplify_full().collect_common_factors())\n"
   ]
  },
  {
   "cell_type": "code",
   "execution_count": 59,
   "id": "07ca95e1-fb48-4f6d-8d3b-afb4b97f2dc4",
   "metadata": {},
   "outputs": [
    {
     "data": {
      "text/html": [
       "<html>\\(\\displaystyle -\\frac{{\\left(L_{1} k_{g}^{2} k_{l}^{2} k_{m}^{2} + L_{1} R_{\\mathit{eq}} \\beta\\right)} l_{2} m_{2}}{I_{\\mathit{xx}_{2}} R_{\\mathit{eq}} l_{1}^{2} m_{1} + I_{\\mathit{xx}_{2}} I_{\\mathit{zz}_{2}} R_{\\mathit{eq}} + {\\left(I_{\\mathit{xx}_{2}} I_{\\mathit{zz}_{1}} + I_{\\mathit{xx}_{2}} J_{\\mathit{eq}}\\right)} R_{\\mathit{eq}} + {\\left(R_{\\mathit{eq}} l_{1}^{2} l_{2}^{2} m_{1} + {\\left(I_{\\mathit{zz}_{1}} + J_{\\mathit{eq}}\\right)} R_{\\mathit{eq}} l_{2}^{2}\\right)} m_{2} + {\\left(I_{\\mathit{xx}_{2}} L_{1}^{2} R_{\\mathit{eq}} + I_{\\mathit{zz}_{2}} R_{\\mathit{eq}} l_{2}^{2}\\right)} m_{2}}\\)</html>"
      ],
      "text/latex": [
       "$\\displaystyle -\\frac{{\\left(L_{1} k_{g}^{2} k_{l}^{2} k_{m}^{2} + L_{1} R_{\\mathit{eq}} \\beta\\right)} l_{2} m_{2}}{I_{\\mathit{xx}_{2}} R_{\\mathit{eq}} l_{1}^{2} m_{1} + I_{\\mathit{xx}_{2}} I_{\\mathit{zz}_{2}} R_{\\mathit{eq}} + {\\left(I_{\\mathit{xx}_{2}} I_{\\mathit{zz}_{1}} + I_{\\mathit{xx}_{2}} J_{\\mathit{eq}}\\right)} R_{\\mathit{eq}} + {\\left(R_{\\mathit{eq}} l_{1}^{2} l_{2}^{2} m_{1} + {\\left(I_{\\mathit{zz}_{1}} + J_{\\mathit{eq}}\\right)} R_{\\mathit{eq}} l_{2}^{2}\\right)} m_{2} + {\\left(I_{\\mathit{xx}_{2}} L_{1}^{2} R_{\\mathit{eq}} + I_{\\mathit{zz}_{2}} R_{\\mathit{eq}} l_{2}^{2}\\right)} m_{2}}$"
      ],
      "text/plain": [
       "-(L1*k_g^2*k_l^2*k_m^2 + L1*R_eq*beta)*l2*m2/(I_xx2*R_eq*l1^2*m1 + I_xx2*I_zz2*R_eq + (I_xx2*I_zz1 + I_xx2*J_eq)*R_eq + (R_eq*l1^2*l2^2*m1 + (I_zz1 + J_eq)*R_eq*l2^2)*m2 + (I_xx2*L1^2*R_eq + I_zz2*R_eq*l2^2)*m2)"
      ]
     },
     "metadata": {},
     "output_type": "display_data"
    }
   ],
   "source": [
    "A43 = formal_derivative(second_eq,theta_1.diff()).subs({theta_1:0,theta_2:0,theta_1.diff():0,theta_2.diff():0})\n",
    "show(A43)"
   ]
  },
  {
   "cell_type": "code",
   "execution_count": 60,
   "id": "259948c9-c3ce-4af2-baf9-74ecc189659c",
   "metadata": {},
   "outputs": [
    {
     "data": {
      "text/html": [
       "<html>\\(\\displaystyle 0\\)</html>"
      ],
      "text/latex": [
       "$\\displaystyle 0$"
      ],
      "text/plain": [
       "0"
      ]
     },
     "metadata": {},
     "output_type": "display_data"
    }
   ],
   "source": [
    "A44 = formal_derivative(second_eq,theta_2.diff()).subs({theta_1:0,theta_2:0,theta_1.diff():0,theta_2.diff():0})\n",
    "show(A44)"
   ]
  },
  {
   "cell_type": "code",
   "execution_count": 61,
   "id": "0bb10fa7-3c1c-4e66-b52c-e36a62b16c40",
   "metadata": {},
   "outputs": [
    {
     "data": {
      "text/html": [
       "<html>\\(\\displaystyle \\frac{k_{g} k_{l} k_{m} l_{2}^{2} m_{2} + I_{\\mathit{xx}_{2}} k_{g} k_{l} k_{m}}{I_{\\mathit{xx}_{2}} R_{\\mathit{eq}} l_{1}^{2} m_{1} + {\\left(I_{\\mathit{xx}_{2}} I_{\\mathit{zz}_{1}} + I_{\\mathit{xx}_{2}} I_{\\mathit{zz}_{2}} + I_{\\mathit{xx}_{2}} J_{\\mathit{eq}}\\right)} R_{\\mathit{eq}} + {\\left(R_{\\mathit{eq}} l_{1}^{2} l_{2}^{2} m_{1} + I_{\\mathit{xx}_{2}} L_{1}^{2} R_{\\mathit{eq}} + {\\left(I_{\\mathit{zz}_{1}} + I_{\\mathit{zz}_{2}} + J_{\\mathit{eq}}\\right)} R_{\\mathit{eq}} l_{2}^{2}\\right)} m_{2}}\\)</html>"
      ],
      "text/latex": [
       "$\\displaystyle \\frac{k_{g} k_{l} k_{m} l_{2}^{2} m_{2} + I_{\\mathit{xx}_{2}} k_{g} k_{l} k_{m}}{I_{\\mathit{xx}_{2}} R_{\\mathit{eq}} l_{1}^{2} m_{1} + {\\left(I_{\\mathit{xx}_{2}} I_{\\mathit{zz}_{1}} + I_{\\mathit{xx}_{2}} I_{\\mathit{zz}_{2}} + I_{\\mathit{xx}_{2}} J_{\\mathit{eq}}\\right)} R_{\\mathit{eq}} + {\\left(R_{\\mathit{eq}} l_{1}^{2} l_{2}^{2} m_{1} + I_{\\mathit{xx}_{2}} L_{1}^{2} R_{\\mathit{eq}} + {\\left(I_{\\mathit{zz}_{1}} + I_{\\mathit{zz}_{2}} + J_{\\mathit{eq}}\\right)} R_{\\mathit{eq}} l_{2}^{2}\\right)} m_{2}}$"
      ],
      "text/plain": [
       "(k_g*k_l*k_m*l2^2*m2 + I_xx2*k_g*k_l*k_m)/(I_xx2*R_eq*l1^2*m1 + (I_xx2*I_zz1 + I_xx2*I_zz2 + I_xx2*J_eq)*R_eq + (R_eq*l1^2*l2^2*m1 + I_xx2*L1^2*R_eq + (I_zz1 + I_zz2 + J_eq)*R_eq*l2^2)*m2)"
      ]
     },
     "metadata": {},
     "output_type": "display_data"
    }
   ],
   "source": [
    "B31 = first_eq.coefficient(v_in)\n",
    "B31 = B31.subs(sin(theta_2)==theta_2).subs(cos(theta_2)==1).subs(theta_2==0)\n",
    "show(B31.collect_common_factors().simplify_full())"
   ]
  },
  {
   "cell_type": "code",
   "execution_count": 62,
   "id": "46e80c95-2c82-43f4-b7f1-7617b1408000",
   "metadata": {},
   "outputs": [
    {
     "data": {
      "text/html": [
       "<html>\\(\\displaystyle \\frac{L_{1} k_{g} k_{l} k_{m} l_{2} m_{2}}{I_{\\mathit{xx}_{2}} R_{\\mathit{eq}} l_{1}^{2} m_{1} + {\\left(I_{\\mathit{xx}_{2}} I_{\\mathit{zz}_{1}} + I_{\\mathit{xx}_{2}} I_{\\mathit{zz}_{2}} + I_{\\mathit{xx}_{2}} J_{\\mathit{eq}}\\right)} R_{\\mathit{eq}} + {\\left(R_{\\mathit{eq}} l_{1}^{2} l_{2}^{2} m_{1} + I_{\\mathit{xx}_{2}} L_{1}^{2} R_{\\mathit{eq}} + {\\left(I_{\\mathit{zz}_{1}} + I_{\\mathit{zz}_{2}} + J_{\\mathit{eq}}\\right)} R_{\\mathit{eq}} l_{2}^{2}\\right)} m_{2}}\\)</html>"
      ],
      "text/latex": [
       "$\\displaystyle \\frac{L_{1} k_{g} k_{l} k_{m} l_{2} m_{2}}{I_{\\mathit{xx}_{2}} R_{\\mathit{eq}} l_{1}^{2} m_{1} + {\\left(I_{\\mathit{xx}_{2}} I_{\\mathit{zz}_{1}} + I_{\\mathit{xx}_{2}} I_{\\mathit{zz}_{2}} + I_{\\mathit{xx}_{2}} J_{\\mathit{eq}}\\right)} R_{\\mathit{eq}} + {\\left(R_{\\mathit{eq}} l_{1}^{2} l_{2}^{2} m_{1} + I_{\\mathit{xx}_{2}} L_{1}^{2} R_{\\mathit{eq}} + {\\left(I_{\\mathit{zz}_{1}} + I_{\\mathit{zz}_{2}} + J_{\\mathit{eq}}\\right)} R_{\\mathit{eq}} l_{2}^{2}\\right)} m_{2}}$"
      ],
      "text/plain": [
       "L1*k_g*k_l*k_m*l2*m2/(I_xx2*R_eq*l1^2*m1 + (I_xx2*I_zz1 + I_xx2*I_zz2 + I_xx2*J_eq)*R_eq + (R_eq*l1^2*l2^2*m1 + I_xx2*L1^2*R_eq + (I_zz1 + I_zz2 + J_eq)*R_eq*l2^2)*m2)"
      ]
     },
     "metadata": {},
     "output_type": "display_data"
    }
   ],
   "source": [
    "B41 = second_eq.coefficient(v_in)\n",
    "B41 = B41.subs(sin(theta_2)==theta_2).subs(cos(theta_2)==1).subs(theta_2==0)\n",
    "show(B41.collect_common_factors().simplify_full())"
   ]
  },
  {
   "cell_type": "code",
   "execution_count": 63,
   "id": "8884e717-1937-40ba-95f3-7971be6ae8d1",
   "metadata": {},
   "outputs": [],
   "source": [
    "A = matrix(4,4,[[0,0,1,0],[0,0,0,1],[A31,A32,A33,A34],[A41,A42,A43,A44]])\n",
    "B = matrix(4,1,[[0],[0],[B31],[B41]])"
   ]
  },
  {
   "cell_type": "code",
   "execution_count": 64,
   "id": "381ba8ab-cc32-4fd8-a34a-11e777179ce1",
   "metadata": {},
   "outputs": [
    {
     "data": {
      "text/html": [
       "<html>\\(\\displaystyle \\left(\\begin{array}{rrrr}\n",
       "0 & 0 & 1 & 0 \\\\\n",
       "0 & 0 & 0 & 1 \\\\\n",
       "0 & \\frac{L_{1} R_{\\mathit{eq}} g l_{2}^{2} m_{2}^{2}}{I_{\\mathit{xx}_{2}} R_{\\mathit{eq}} l_{1}^{2} m_{1} + I_{\\mathit{xx}_{2}} I_{\\mathit{zz}_{2}} R_{\\mathit{eq}} + {\\left(I_{\\mathit{xx}_{2}} I_{\\mathit{zz}_{1}} + I_{\\mathit{xx}_{2}} J_{\\mathit{eq}}\\right)} R_{\\mathit{eq}} + {\\left(R_{\\mathit{eq}} l_{1}^{2} l_{2}^{2} m_{1} + {\\left(I_{\\mathit{zz}_{1}} + J_{\\mathit{eq}}\\right)} R_{\\mathit{eq}} l_{2}^{2}\\right)} m_{2} + {\\left(I_{\\mathit{xx}_{2}} L_{1}^{2} R_{\\mathit{eq}} + I_{\\mathit{zz}_{2}} R_{\\mathit{eq}} l_{2}^{2}\\right)} m_{2}} & -\\frac{I_{\\mathit{xx}_{2}} k_{g}^{2} k_{l}^{2} k_{m}^{2} + {\\left(k_{g}^{2} k_{l}^{2} k_{m}^{2} + R_{\\mathit{eq}} \\beta\\right)} l_{2}^{2} m_{2} + I_{\\mathit{xx}_{2}} R_{\\mathit{eq}} \\beta}{I_{\\mathit{xx}_{2}} R_{\\mathit{eq}} l_{1}^{2} m_{1} + I_{\\mathit{xx}_{2}} I_{\\mathit{zz}_{2}} R_{\\mathit{eq}} + {\\left(I_{\\mathit{xx}_{2}} I_{\\mathit{zz}_{1}} + I_{\\mathit{xx}_{2}} J_{\\mathit{eq}}\\right)} R_{\\mathit{eq}} + {\\left(R_{\\mathit{eq}} l_{1}^{2} l_{2}^{2} m_{1} + {\\left(I_{\\mathit{zz}_{1}} + J_{\\mathit{eq}}\\right)} R_{\\mathit{eq}} l_{2}^{2}\\right)} m_{2} + {\\left(I_{\\mathit{xx}_{2}} L_{1}^{2} R_{\\mathit{eq}} + I_{\\mathit{zz}_{2}} R_{\\mathit{eq}} l_{2}^{2}\\right)} m_{2}} & 0 \\\\\n",
       "0 & \\frac{L_{1}^{2} R_{\\mathit{eq}} g l_{2} m_{2}^{2} + I_{\\mathit{zz}_{2}} R_{\\mathit{eq}} g l_{2} m_{2} + {\\left(R_{\\mathit{eq}} g l_{1}^{2} l_{2} m_{1} + {\\left(I_{\\mathit{zz}_{1}} g + J_{\\mathit{eq}} g\\right)} R_{\\mathit{eq}} l_{2}\\right)} m_{2}}{I_{\\mathit{xx}_{2}} R_{\\mathit{eq}} l_{1}^{2} m_{1} + I_{\\mathit{xx}_{2}} I_{\\mathit{zz}_{2}} R_{\\mathit{eq}} + {\\left(I_{\\mathit{xx}_{2}} I_{\\mathit{zz}_{1}} + I_{\\mathit{xx}_{2}} J_{\\mathit{eq}}\\right)} R_{\\mathit{eq}} + {\\left(R_{\\mathit{eq}} l_{1}^{2} l_{2}^{2} m_{1} + {\\left(I_{\\mathit{zz}_{1}} + J_{\\mathit{eq}}\\right)} R_{\\mathit{eq}} l_{2}^{2}\\right)} m_{2} + {\\left(I_{\\mathit{xx}_{2}} L_{1}^{2} R_{\\mathit{eq}} + I_{\\mathit{zz}_{2}} R_{\\mathit{eq}} l_{2}^{2}\\right)} m_{2}} & -\\frac{{\\left(L_{1} k_{g}^{2} k_{l}^{2} k_{m}^{2} + L_{1} R_{\\mathit{eq}} \\beta\\right)} l_{2} m_{2}}{I_{\\mathit{xx}_{2}} R_{\\mathit{eq}} l_{1}^{2} m_{1} + I_{\\mathit{xx}_{2}} I_{\\mathit{zz}_{2}} R_{\\mathit{eq}} + {\\left(I_{\\mathit{xx}_{2}} I_{\\mathit{zz}_{1}} + I_{\\mathit{xx}_{2}} J_{\\mathit{eq}}\\right)} R_{\\mathit{eq}} + {\\left(R_{\\mathit{eq}} l_{1}^{2} l_{2}^{2} m_{1} + {\\left(I_{\\mathit{zz}_{1}} + J_{\\mathit{eq}}\\right)} R_{\\mathit{eq}} l_{2}^{2}\\right)} m_{2} + {\\left(I_{\\mathit{xx}_{2}} L_{1}^{2} R_{\\mathit{eq}} + I_{\\mathit{zz}_{2}} R_{\\mathit{eq}} l_{2}^{2}\\right)} m_{2}} & 0\n",
       "\\end{array}\\right)\\)</html>"
      ],
      "text/latex": [
       "$\\displaystyle \\left(\\begin{array}{rrrr}\n",
       "0 & 0 & 1 & 0 \\\\\n",
       "0 & 0 & 0 & 1 \\\\\n",
       "0 & \\frac{L_{1} R_{\\mathit{eq}} g l_{2}^{2} m_{2}^{2}}{I_{\\mathit{xx}_{2}} R_{\\mathit{eq}} l_{1}^{2} m_{1} + I_{\\mathit{xx}_{2}} I_{\\mathit{zz}_{2}} R_{\\mathit{eq}} + {\\left(I_{\\mathit{xx}_{2}} I_{\\mathit{zz}_{1}} + I_{\\mathit{xx}_{2}} J_{\\mathit{eq}}\\right)} R_{\\mathit{eq}} + {\\left(R_{\\mathit{eq}} l_{1}^{2} l_{2}^{2} m_{1} + {\\left(I_{\\mathit{zz}_{1}} + J_{\\mathit{eq}}\\right)} R_{\\mathit{eq}} l_{2}^{2}\\right)} m_{2} + {\\left(I_{\\mathit{xx}_{2}} L_{1}^{2} R_{\\mathit{eq}} + I_{\\mathit{zz}_{2}} R_{\\mathit{eq}} l_{2}^{2}\\right)} m_{2}} & -\\frac{I_{\\mathit{xx}_{2}} k_{g}^{2} k_{l}^{2} k_{m}^{2} + {\\left(k_{g}^{2} k_{l}^{2} k_{m}^{2} + R_{\\mathit{eq}} \\beta\\right)} l_{2}^{2} m_{2} + I_{\\mathit{xx}_{2}} R_{\\mathit{eq}} \\beta}{I_{\\mathit{xx}_{2}} R_{\\mathit{eq}} l_{1}^{2} m_{1} + I_{\\mathit{xx}_{2}} I_{\\mathit{zz}_{2}} R_{\\mathit{eq}} + {\\left(I_{\\mathit{xx}_{2}} I_{\\mathit{zz}_{1}} + I_{\\mathit{xx}_{2}} J_{\\mathit{eq}}\\right)} R_{\\mathit{eq}} + {\\left(R_{\\mathit{eq}} l_{1}^{2} l_{2}^{2} m_{1} + {\\left(I_{\\mathit{zz}_{1}} + J_{\\mathit{eq}}\\right)} R_{\\mathit{eq}} l_{2}^{2}\\right)} m_{2} + {\\left(I_{\\mathit{xx}_{2}} L_{1}^{2} R_{\\mathit{eq}} + I_{\\mathit{zz}_{2}} R_{\\mathit{eq}} l_{2}^{2}\\right)} m_{2}} & 0 \\\\\n",
       "0 & \\frac{L_{1}^{2} R_{\\mathit{eq}} g l_{2} m_{2}^{2} + I_{\\mathit{zz}_{2}} R_{\\mathit{eq}} g l_{2} m_{2} + {\\left(R_{\\mathit{eq}} g l_{1}^{2} l_{2} m_{1} + {\\left(I_{\\mathit{zz}_{1}} g + J_{\\mathit{eq}} g\\right)} R_{\\mathit{eq}} l_{2}\\right)} m_{2}}{I_{\\mathit{xx}_{2}} R_{\\mathit{eq}} l_{1}^{2} m_{1} + I_{\\mathit{xx}_{2}} I_{\\mathit{zz}_{2}} R_{\\mathit{eq}} + {\\left(I_{\\mathit{xx}_{2}} I_{\\mathit{zz}_{1}} + I_{\\mathit{xx}_{2}} J_{\\mathit{eq}}\\right)} R_{\\mathit{eq}} + {\\left(R_{\\mathit{eq}} l_{1}^{2} l_{2}^{2} m_{1} + {\\left(I_{\\mathit{zz}_{1}} + J_{\\mathit{eq}}\\right)} R_{\\mathit{eq}} l_{2}^{2}\\right)} m_{2} + {\\left(I_{\\mathit{xx}_{2}} L_{1}^{2} R_{\\mathit{eq}} + I_{\\mathit{zz}_{2}} R_{\\mathit{eq}} l_{2}^{2}\\right)} m_{2}} & -\\frac{{\\left(L_{1} k_{g}^{2} k_{l}^{2} k_{m}^{2} + L_{1} R_{\\mathit{eq}} \\beta\\right)} l_{2} m_{2}}{I_{\\mathit{xx}_{2}} R_{\\mathit{eq}} l_{1}^{2} m_{1} + I_{\\mathit{xx}_{2}} I_{\\mathit{zz}_{2}} R_{\\mathit{eq}} + {\\left(I_{\\mathit{xx}_{2}} I_{\\mathit{zz}_{1}} + I_{\\mathit{xx}_{2}} J_{\\mathit{eq}}\\right)} R_{\\mathit{eq}} + {\\left(R_{\\mathit{eq}} l_{1}^{2} l_{2}^{2} m_{1} + {\\left(I_{\\mathit{zz}_{1}} + J_{\\mathit{eq}}\\right)} R_{\\mathit{eq}} l_{2}^{2}\\right)} m_{2} + {\\left(I_{\\mathit{xx}_{2}} L_{1}^{2} R_{\\mathit{eq}} + I_{\\mathit{zz}_{2}} R_{\\mathit{eq}} l_{2}^{2}\\right)} m_{2}} & 0\n",
       "\\end{array}\\right)$"
      ],
      "text/plain": [
       "[                                                                                                                                                                                                                                                                      0                                                                                                                                                                                                                                                                       0                                                                                                                                                                                                                                                                       1                                                                                                                                                                                                                                                                       0]\n",
       "[                                                                                                                                                                                                                                                                      0                                                                                                                                                                                                                                                                       0                                                                                                                                                                                                                                                                       0                                                                                                                                                                                                                                                                       1]\n",
       "[                                                                                                                                                                                                                                                                      0                                                                              L1*R_eq*g*l2^2*m2^2/(I_xx2*R_eq*l1^2*m1 + I_xx2*I_zz2*R_eq + (I_xx2*I_zz1 + I_xx2*J_eq)*R_eq + (R_eq*l1^2*l2^2*m1 + (I_zz1 + J_eq)*R_eq*l2^2)*m2 + (I_xx2*L1^2*R_eq + I_zz2*R_eq*l2^2)*m2)           -(I_xx2*k_g^2*k_l^2*k_m^2 + (k_g^2*k_l^2*k_m^2 + R_eq*beta)*l2^2*m2 + I_xx2*R_eq*beta)/(I_xx2*R_eq*l1^2*m1 + I_xx2*I_zz2*R_eq + (I_xx2*I_zz1 + I_xx2*J_eq)*R_eq + (R_eq*l1^2*l2^2*m1 + (I_zz1 + J_eq)*R_eq*l2^2)*m2 + (I_xx2*L1^2*R_eq + I_zz2*R_eq*l2^2)*m2)                                                                                                                                                                                                                                                                       0]\n",
       "[                                                                                                                                                                                                                                                                      0 (L1^2*R_eq*g*l2*m2^2 + I_zz2*R_eq*g*l2*m2 + (R_eq*g*l1^2*l2*m1 + (I_zz1*g + J_eq*g)*R_eq*l2)*m2)/(I_xx2*R_eq*l1^2*m1 + I_xx2*I_zz2*R_eq + (I_xx2*I_zz1 + I_xx2*J_eq)*R_eq + (R_eq*l1^2*l2^2*m1 + (I_zz1 + J_eq)*R_eq*l2^2)*m2 + (I_xx2*L1^2*R_eq + I_zz2*R_eq*l2^2)*m2)                                                     -(L1*k_g^2*k_l^2*k_m^2 + L1*R_eq*beta)*l2*m2/(I_xx2*R_eq*l1^2*m1 + I_xx2*I_zz2*R_eq + (I_xx2*I_zz1 + I_xx2*J_eq)*R_eq + (R_eq*l1^2*l2^2*m1 + (I_zz1 + J_eq)*R_eq*l2^2)*m2 + (I_xx2*L1^2*R_eq + I_zz2*R_eq*l2^2)*m2)                                                                                                                                                                                                                                                                       0]"
      ]
     },
     "metadata": {},
     "output_type": "display_data"
    },
    {
     "data": {
      "text/html": [
       "<html>\\(\\displaystyle \\left(\\begin{array}{r}\n",
       "0 \\\\\n",
       "0 \\\\\n",
       "\\frac{k_{g} k_{l} k_{m} l_{2}^{2} m_{2} + I_{\\mathit{xx}_{2}} k_{g} k_{l} k_{m}}{I_{\\mathit{xx}_{2}} R_{\\mathit{eq}} l_{1}^{2} m_{1} + I_{\\mathit{xx}_{2}} I_{\\mathit{zz}_{2}} R_{\\mathit{eq}} + {\\left(I_{\\mathit{xx}_{2}} I_{\\mathit{zz}_{1}} + I_{\\mathit{xx}_{2}} J_{\\mathit{eq}}\\right)} R_{\\mathit{eq}} + {\\left(R_{\\mathit{eq}} l_{1}^{2} l_{2}^{2} m_{1} + {\\left(I_{\\mathit{zz}_{1}} + J_{\\mathit{eq}}\\right)} R_{\\mathit{eq}} l_{2}^{2}\\right)} m_{2} + {\\left(I_{\\mathit{xx}_{2}} L_{1}^{2} R_{\\mathit{eq}} + I_{\\mathit{zz}_{2}} R_{\\mathit{eq}} l_{2}^{2}\\right)} m_{2}} \\\\\n",
       "\\frac{L_{1} k_{g} k_{l} k_{m} l_{2} m_{2}}{I_{\\mathit{xx}_{2}} R_{\\mathit{eq}} l_{1}^{2} m_{1} + I_{\\mathit{xx}_{2}} I_{\\mathit{zz}_{2}} R_{\\mathit{eq}} + {\\left(I_{\\mathit{xx}_{2}} I_{\\mathit{zz}_{1}} + I_{\\mathit{xx}_{2}} J_{\\mathit{eq}}\\right)} R_{\\mathit{eq}} + {\\left(R_{\\mathit{eq}} l_{1}^{2} l_{2}^{2} m_{1} + {\\left(I_{\\mathit{zz}_{1}} + J_{\\mathit{eq}}\\right)} R_{\\mathit{eq}} l_{2}^{2}\\right)} m_{2} + {\\left(I_{\\mathit{xx}_{2}} L_{1}^{2} R_{\\mathit{eq}} + I_{\\mathit{zz}_{2}} R_{\\mathit{eq}} l_{2}^{2}\\right)} m_{2}}\n",
       "\\end{array}\\right)\\)</html>"
      ],
      "text/latex": [
       "$\\displaystyle \\left(\\begin{array}{r}\n",
       "0 \\\\\n",
       "0 \\\\\n",
       "\\frac{k_{g} k_{l} k_{m} l_{2}^{2} m_{2} + I_{\\mathit{xx}_{2}} k_{g} k_{l} k_{m}}{I_{\\mathit{xx}_{2}} R_{\\mathit{eq}} l_{1}^{2} m_{1} + I_{\\mathit{xx}_{2}} I_{\\mathit{zz}_{2}} R_{\\mathit{eq}} + {\\left(I_{\\mathit{xx}_{2}} I_{\\mathit{zz}_{1}} + I_{\\mathit{xx}_{2}} J_{\\mathit{eq}}\\right)} R_{\\mathit{eq}} + {\\left(R_{\\mathit{eq}} l_{1}^{2} l_{2}^{2} m_{1} + {\\left(I_{\\mathit{zz}_{1}} + J_{\\mathit{eq}}\\right)} R_{\\mathit{eq}} l_{2}^{2}\\right)} m_{2} + {\\left(I_{\\mathit{xx}_{2}} L_{1}^{2} R_{\\mathit{eq}} + I_{\\mathit{zz}_{2}} R_{\\mathit{eq}} l_{2}^{2}\\right)} m_{2}} \\\\\n",
       "\\frac{L_{1} k_{g} k_{l} k_{m} l_{2} m_{2}}{I_{\\mathit{xx}_{2}} R_{\\mathit{eq}} l_{1}^{2} m_{1} + I_{\\mathit{xx}_{2}} I_{\\mathit{zz}_{2}} R_{\\mathit{eq}} + {\\left(I_{\\mathit{xx}_{2}} I_{\\mathit{zz}_{1}} + I_{\\mathit{xx}_{2}} J_{\\mathit{eq}}\\right)} R_{\\mathit{eq}} + {\\left(R_{\\mathit{eq}} l_{1}^{2} l_{2}^{2} m_{1} + {\\left(I_{\\mathit{zz}_{1}} + J_{\\mathit{eq}}\\right)} R_{\\mathit{eq}} l_{2}^{2}\\right)} m_{2} + {\\left(I_{\\mathit{xx}_{2}} L_{1}^{2} R_{\\mathit{eq}} + I_{\\mathit{zz}_{2}} R_{\\mathit{eq}} l_{2}^{2}\\right)} m_{2}}\n",
       "\\end{array}\\right)$"
      ],
      "text/plain": [
       "[                                                                                                                                                                                                               0]\n",
       "[                                                                                                                                                                                                               0]\n",
       "[(k_g*k_l*k_m*l2^2*m2 + I_xx2*k_g*k_l*k_m)/(I_xx2*R_eq*l1^2*m1 + I_xx2*I_zz2*R_eq + (I_xx2*I_zz1 + I_xx2*J_eq)*R_eq + (R_eq*l1^2*l2^2*m1 + (I_zz1 + J_eq)*R_eq*l2^2)*m2 + (I_xx2*L1^2*R_eq + I_zz2*R_eq*l2^2)*m2)]\n",
       "[                     L1*k_g*k_l*k_m*l2*m2/(I_xx2*R_eq*l1^2*m1 + I_xx2*I_zz2*R_eq + (I_xx2*I_zz1 + I_xx2*J_eq)*R_eq + (R_eq*l1^2*l2^2*m1 + (I_zz1 + J_eq)*R_eq*l2^2)*m2 + (I_xx2*L1^2*R_eq + I_zz2*R_eq*l2^2)*m2)]"
      ]
     },
     "metadata": {},
     "output_type": "display_data"
    }
   ],
   "source": [
    "show(A)\n",
    "show(B)"
   ]
  },
  {
   "cell_type": "code",
   "execution_count": 65,
   "id": "fe0afa90-2e36-4d27-99c4-80691f9ae047",
   "metadata": {},
   "outputs": [],
   "source": [
    "A = A.subs({l2:l_p/2,L1:0.14,g:9.81,m1:0.230,m2:0.210,I_xx2:0.0065138,I_yy2:0.0065138,I_zz2:4.1016e-6,I_zz1:0.00083952,l1:0.098258,R_eq:4.09,k_g:14,k_l:5,k_m:0.0168,beta:0.0036715,J_eq:0.0019542})\n",
    "B = B.subs({l2:l_p/2,L1:0.14,g:9.81,m1:0.230,m2:0.210,I_xx2:0.0065138,I_yy2:0.0065138,I_zz2:4.1016e-6,I_zz1:0.00083952,l1:0.098258,R_eq:4.09,k_g:14,k_l:5,k_m:0.0168,beta:0.0036715,J_eq:0.0019542})"
   ]
  },
  {
   "cell_type": "code",
   "execution_count": 66,
   "id": "2433fae9-556f-4cd2-b0af-5be089e93646",
   "metadata": {},
   "outputs": [
    {
     "data": {
      "text/html": [
       "<html>\\(\\displaystyle \\left(\\begin{array}{rrrr}\n",
       "0 & 0 & 1 & 0 \\\\\n",
       "0 & 0 & 0 & 1 \\\\\n",
       "0 & 35.7649954374735 & -56.5192337585404 & 0 \\\\\n",
       "0 & 36.4326228437438 & -19.4559098743652 & 0\n",
       "\\end{array}\\right)\\)</html>"
      ],
      "text/latex": [
       "$\\displaystyle \\left(\\begin{array}{rrrr}\n",
       "0 & 0 & 1 & 0 \\\\\n",
       "0 & 0 & 0 & 1 \\\\\n",
       "0 & 35.7649954374735 & -56.5192337585404 & 0 \\\\\n",
       "0 & 36.4326228437438 & -19.4559098743652 & 0\n",
       "\\end{array}\\right)$"
      ],
      "text/plain": [
       "[                0                 0                 1                 0]\n",
       "[                0                 0                 0                 1]\n",
       "[                0  35.7649954374735 -56.5192337585404                 0]\n",
       "[                0  36.4326228437438 -19.4559098743652                 0]"
      ]
     },
     "metadata": {},
     "output_type": "display_data"
    }
   ],
   "source": [
    "show(A)"
   ]
  },
  {
   "cell_type": "code",
   "execution_count": 67,
   "id": "d5834a27-917c-40d8-9f73-9e9f955d6bf7",
   "metadata": {},
   "outputs": [
    {
     "data": {
      "text/html": [
       "<html>\\(\\displaystyle \\left(\\begin{array}{r}\n",
       "0 \\\\\n",
       "0 \\\\\n",
       "47.5443337431533 \\\\\n",
       "16.3664333507308\n",
       "\\end{array}\\right)\\)</html>"
      ],
      "text/latex": [
       "$\\displaystyle \\left(\\begin{array}{r}\n",
       "0 \\\\\n",
       "0 \\\\\n",
       "47.5443337431533 \\\\\n",
       "16.3664333507308\n",
       "\\end{array}\\right)$"
      ],
      "text/plain": [
       "[               0]\n",
       "[               0]\n",
       "[47.5443337431533]\n",
       "[16.3664333507308]"
      ]
     },
     "metadata": {},
     "output_type": "display_data"
    }
   ],
   "source": [
    "show(B)"
   ]
  },
  {
   "cell_type": "code",
   "execution_count": null,
   "id": "e2d5f5a7-a70b-43ca-9759-7f9082341aa1",
   "metadata": {},
   "outputs": [],
   "source": []
  }
 ],
 "metadata": {
  "kernelspec": {
   "display_name": "SageMath 10.4",
   "language": "sage",
   "name": "sagemath"
  },
  "language_info": {
   "codemirror_mode": {
    "name": "ipython",
    "version": 3
   },
   "file_extension": ".py",
   "mimetype": "text/x-python",
   "name": "python",
   "nbconvert_exporter": "python",
   "pygments_lexer": "ipython3",
   "version": "3.11.10"
  }
 },
 "nbformat": 4,
 "nbformat_minor": 5
}
